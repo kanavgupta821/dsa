{
  "nbformat": 4,
  "nbformat_minor": 0,
  "metadata": {
    "colab": {
      "provenance": []
    },
    "kernelspec": {
      "name": "python3",
      "display_name": "Python 3"
    },
    "language_info": {
      "name": "python"
    }
  },
  "cells": [
    {
      "cell_type": "markdown",
      "source": [
        "<aside>\n",
        "💡 **Question 1**\n",
        "\n",
        "Given an integer `n`, return *`true` if it is a power of three. Otherwise, return `false`*.\n",
        "\n",
        "An integer `n` is a power of three, if there exists an integer `x` such that `n == 3x`.\n",
        "\n",
        "**Example 1:**\n",
        "\n",
        "```\n",
        "Input: n = 27\n",
        "Output: true\n",
        "Explanation: 27 = 33\n",
        "```\n",
        "\n",
        "**Example 2:**\n",
        "\n",
        "```\n",
        "Input: n = 0\n",
        "Output: false\n",
        "Explanation: There is no x where 3x = 0.\n",
        "\n",
        "```\n",
        "\n",
        "**Example 3:**\n",
        "\n",
        "```\n",
        "Input: n = -1\n",
        "Output: false\n",
        "Explanation: There is no x where 3x = (-1).\n",
        "```"
      ],
      "metadata": {
        "id": "oSEb47t01Vh8"
      }
    },
    {
      "cell_type": "code",
      "source": [
        "def power(n):\n",
        "  if n == 1:\n",
        "    return True\n",
        "  elif n <= 0 or n % 3 != 0:\n",
        "    return False\n",
        "  else:\n",
        "    return power(n / 3)"
      ],
      "metadata": {
        "id": "QVU6SX3o1jrI"
      },
      "execution_count": 3,
      "outputs": []
    },
    {
      "cell_type": "code",
      "source": [
        "print(f'output: {power(27)}')\n",
        "print(f'output: {power(0)}')\n",
        "print(f'output: {power(-1)}')"
      ],
      "metadata": {
        "colab": {
          "base_uri": "https://localhost:8080/"
        },
        "id": "Eymb2uoN1-SH",
        "outputId": "f0804855-7904-4fed-af8f-4e66f6548881"
      },
      "execution_count": 49,
      "outputs": [
        {
          "output_type": "stream",
          "name": "stdout",
          "text": [
            "output: True\n",
            "output: False\n",
            "output: False\n"
          ]
        }
      ]
    },
    {
      "cell_type": "markdown",
      "source": [
        "<aside>\n",
        "💡 **Question 2**\n",
        "\n",
        "You have a list `arr` of all integers in the range `[1, n]` sorted in a strictly increasing order. Apply the following algorithm on `arr`:\n",
        "\n",
        "- Starting from left to right, remove the first number and every other number afterward until you reach the end of the list.\n",
        "- Repeat the previous step again, but this time from right to left, remove the rightmost number and every other number from the remaining numbers.\n",
        "- Keep repeating the steps again, alternating left to right and right to left, until a single number remains.\n",
        "\n",
        "Given the integer `n`, return *the last number that remains in* `arr`.\n",
        "\n",
        "**Example 1:**\n",
        "\n",
        "```\n",
        "Input: n = 9\n",
        "Output: 6\n",
        "Explanation:\n",
        "arr = [1, 2,3, 4,5, 6,7, 8,9]\n",
        "arr = [2,4, 6,8]\n",
        "arr = [2, 6]\n",
        "arr = [6]\n",
        "\n",
        "```\n",
        "\n",
        "**Example 2:**\n",
        "```\n",
        "Input: n = 1\n",
        "Output: 1\n",
        "```\n",
        "</aside>"
      ],
      "metadata": {
        "id": "t5DInL452aKf"
      }
    },
    {
      "cell_type": "code",
      "source": [
        "def last(n):\n",
        "  if n == 1:\n",
        "    return 1\n",
        "  else:\n",
        "    return 2 * (n // 2 + 1 - last(n // 2))"
      ],
      "metadata": {
        "id": "WI7Zu4u58RzL"
      },
      "execution_count": 50,
      "outputs": []
    },
    {
      "cell_type": "code",
      "source": [
        "print(f'output: {last(9)}')\n",
        "print(f'output: {last(1)}')"
      ],
      "metadata": {
        "colab": {
          "base_uri": "https://localhost:8080/"
        },
        "id": "aZQi64Nz8SzH",
        "outputId": "f498531c-ffd1-433f-89c8-0d045356beaf"
      },
      "execution_count": 51,
      "outputs": [
        {
          "output_type": "stream",
          "name": "stdout",
          "text": [
            "output: 6\n",
            "output: 1\n"
          ]
        }
      ]
    },
    {
      "cell_type": "markdown",
      "source": [
        "<aside>\n",
        "💡 **Question 3**\n",
        "\n",
        "****Given a set represented as a string, write a recursive code to print all subsets of it. The subsets can be printed in any order.\n",
        "\n",
        "**Example 1:**\n",
        "\n",
        "Input :  set = “abc”\n",
        "\n",
        "Output : { “”, “a”, “b”, “c”, “ab”, “ac”, “bc”, “abc”}\n",
        "\n",
        "**Example 2:**\n",
        "\n",
        "Input : set = “abcd”\n",
        "\n",
        "Output : { “”, “a” ,”ab” ,”abc” ,”abcd”, “abd” ,”ac” ,”acd”, “ad” ,”b”, “bc” ,”bcd” ,”bd” ,”c” ,”cd” ,”d” }\n",
        "\n",
        "</aside>"
      ],
      "metadata": {
        "id": "o-mShfX881wz"
      }
    },
    {
      "cell_type": "code",
      "source": [
        "def subsets(s):\n",
        "  if len(s) == 0:\n",
        "    return [\"\"]\n",
        "\n",
        "  first = s[0]\n",
        "  remaining = s[1:]\n",
        "\n",
        "  subsets_without_first = subsets(remaining)\n",
        "  subsets_with_first = [first + subset for subset in subsets_without_first]\n",
        "\n",
        "  return subsets_without_first + subsets_with_first"
      ],
      "metadata": {
        "id": "CyE2nrVB8VEc"
      },
      "execution_count": 52,
      "outputs": []
    },
    {
      "cell_type": "code",
      "source": [
        "print(f'output: {subsets(\"abc\")}')\n",
        "print(f'output: {subsets(\"abcd\")}')"
      ],
      "metadata": {
        "colab": {
          "base_uri": "https://localhost:8080/"
        },
        "id": "Sz_9B51-9jr6",
        "outputId": "1b78c282-e72c-4aff-929a-e94555b5375e"
      },
      "execution_count": 53,
      "outputs": [
        {
          "output_type": "stream",
          "name": "stdout",
          "text": [
            "output: ['', 'c', 'b', 'bc', 'a', 'ac', 'ab', 'abc']\n",
            "output: ['', 'd', 'c', 'cd', 'b', 'bd', 'bc', 'bcd', 'a', 'ad', 'ac', 'acd', 'ab', 'abd', 'abc', 'abcd']\n"
          ]
        }
      ]
    },
    {
      "cell_type": "markdown",
      "source": [
        "<aside>\n",
        "💡 **Question 4**\n",
        "\n",
        "Given a string calculate length of the string using recursion.\n",
        "\n",
        "**Examples:**\n",
        "```\n",
        "Input : str = \"abcd\"\n",
        "Output :4\n",
        "\n",
        "Input : str = \"GEEKSFORGEEKS\"\n",
        "Output :13\n",
        "```\n",
        "</aside>"
      ],
      "metadata": {
        "id": "unjjqMuK-2YC"
      }
    },
    {
      "cell_type": "code",
      "source": [
        "def length(str, index=0):\n",
        "  if index == len(str):\n",
        "    return 0\n",
        "  else:\n",
        "    return 1 + length(str, index + 1)"
      ],
      "metadata": {
        "id": "KWrNwNoi-da9"
      },
      "execution_count": 54,
      "outputs": []
    },
    {
      "cell_type": "code",
      "source": [
        "print(f'output: {length(\"abcd\")}')\n",
        "print(f'output: {length(\"GEEKSFORGEEKS\")}')"
      ],
      "metadata": {
        "colab": {
          "base_uri": "https://localhost:8080/"
        },
        "id": "rNmBaxfV_qMK",
        "outputId": "9baf6587-7e1d-4cfb-f37d-7f342b6829ec"
      },
      "execution_count": 55,
      "outputs": [
        {
          "output_type": "stream",
          "name": "stdout",
          "text": [
            "output: 4\n",
            "output: 13\n"
          ]
        }
      ]
    },
    {
      "cell_type": "markdown",
      "source": [
        "<aside>\n",
        "💡 **Question 5**\n",
        "\n",
        "We are given a string S, we need to find count of all contiguous substrings starting and ending with same character.\n",
        "\n",
        "**Examples :**\n",
        "```\n",
        "Input  : S = \"abcab\"\n",
        "Output : 7\n",
        "There are 15 substrings of \"abcab\"\n",
        "a, ab, abc, abca, abcab, b, bc, bca\n",
        "bcab, c, ca, cab, a, ab, b\n",
        "Out of the above substrings, there\n",
        "are 7 substrings : a, abca, b, bcab,\n",
        "c, a and b.\n",
        "\n",
        "Input  : S = \"aba\"\n",
        "Output : 4\n",
        "The substrings are a, b, a and aba\n",
        "```\n",
        "</aside>"
      ],
      "metadata": {
        "id": "C0hi8qyg_4CS"
      }
    },
    {
      "cell_type": "code",
      "source": [
        "def substring(S):\n",
        "  count = 0\n",
        "  for i in range(len(S)):\n",
        "    ch = S[i]\n",
        "    j = i\n",
        "    while j < len(S):\n",
        "      if S[j] == ch:\n",
        "        count += 1\n",
        "      j += 1\n",
        "  return count"
      ],
      "metadata": {
        "id": "ZXQGYTxlA1Zt"
      },
      "execution_count": 56,
      "outputs": []
    },
    {
      "cell_type": "code",
      "source": [
        "print(f'output: {substring(\"abcab\")}')\n",
        "print(f'output: {substring(\"aba\")}')"
      ],
      "metadata": {
        "colab": {
          "base_uri": "https://localhost:8080/"
        },
        "id": "XAPL8RlOAuZh",
        "outputId": "d4f74623-a36d-43f8-dbd1-d44ac68f88b6"
      },
      "execution_count": 57,
      "outputs": [
        {
          "output_type": "stream",
          "name": "stdout",
          "text": [
            "output: 7\n",
            "output: 4\n"
          ]
        }
      ]
    },
    {
      "cell_type": "markdown",
      "source": [
        "<aside>\n",
        "💡 **Question 6**\n",
        "\n",
        "The [tower of Hanoi](https://en.wikipedia.org/wiki/Tower_of_Hanoi) is a famous puzzle where we have three rods and **N** disks. The objective of the puzzle is to move the entire stack to another rod. You are given the number of discs **N**. Initially, these discs are in the rod 1. You need to print all the steps of discs movement so that all the discs reach the 3rd rod. Also, you need to find the total moves.**Note:** The discs are arranged such that the **top disc is numbered 1** and the **bottom-most disc is numbered N**. Also, all the discs have **different sizes** and a bigger disc **cannot** be put on the top of a smaller disc. Refer the provided link to get a better clarity about the puzzle.\n",
        "\n",
        "**Example 1:**\n",
        "\n",
        "```\n",
        "Input:\n",
        "N = 2\n",
        "Output:\n",
        "move disk 1 from rod 1 to rod 2\n",
        "move disk 2 from rod 1 to rod 3\n",
        "move disk 1 from rod 2 to rod 3\n",
        "3\n",
        "Explanation:For N=2 , steps will be\n",
        "as follows in the example and total\n",
        "3 steps will be taken.\n",
        "```\n",
        "\n",
        "**Example 2:**\n",
        "```\n",
        "Input:\n",
        "N = 3\n",
        "Output:\n",
        "move disk 1 from rod 1 to rod 3\n",
        "move disk 2 from rod 1 to rod 2\n",
        "move disk 1 from rod 3 to rod 2\n",
        "move disk 3 from rod 1 to rod 3\n",
        "move disk 1 from rod 2 to rod 1\n",
        "move disk 2 from rod 2 to rod 3\n",
        "move disk 1 from rod 1 to rod 3\n",
        "7\n",
        "Explanation:For N=3 , steps will be\n",
        "as follows in the example and total\n",
        "7 steps will be taken.\n",
        "```\n",
        "\n",
        "</aside>"
      ],
      "metadata": {
        "id": "gWoGWUpICWJO"
      }
    },
    {
      "cell_type": "code",
      "source": [],
      "metadata": {
        "id": "PKBvJQ-9AwS6"
      },
      "execution_count": null,
      "outputs": []
    },
    {
      "cell_type": "markdown",
      "source": [
        "<aside>\n",
        "💡 **Question 7**\n",
        "\n",
        "Given a string **str**, the task is to print all the permutations of **str**. A **permutation** is an arrangement of all or part of a set of objects, with regard to the order of the arrangement. For instance, the words ‘bat’ and ‘tab’ represents two distinct permutation (or arrangements) of a similar three letter word.\n",
        "\n",
        "**Examples:**\n",
        "\n",
        "> Input: str = “cd”\n",
        ">\n",
        ">\n",
        "> **Output:** cd dc\n",
        ">\n",
        "> **Input:** str = “abb”\n",
        ">\n",
        "> **Output:** abb abb bab bba bab bba\n",
        ">\n",
        "</aside>"
      ],
      "metadata": {
        "id": "RYNrOeyPC00v"
      }
    },
    {
      "cell_type": "code",
      "source": [
        "def permutation(current, remaining, permutations):\n",
        "  if len(remaining) == 0:\n",
        "    permutations.append(current)\n",
        "    return\n",
        "\n",
        "  for ch in remaining:\n",
        "    new_current = current + ch\n",
        "    new_remaining = remaining.replace(ch, \"\", 1)\n",
        "    permutation(new_current, new_remaining, permutations)\n",
        "\n",
        "string = \"cd\"\n",
        "permutations = []\n",
        "permutation(\"\", string, permutations)\n",
        "print(f'output: {\" \".join(permutations)}')\n",
        "\n",
        "string = \"abb\"\n",
        "permutations = []\n",
        "permutation(\"\", string, permutations)\n",
        "print(f'output: {\" \".join(permutations)}')"
      ],
      "metadata": {
        "colab": {
          "base_uri": "https://localhost:8080/"
        },
        "id": "oTNXbzM1C3Jp",
        "outputId": "d89f2620-e11c-45a2-8103-1a3d74f2d503"
      },
      "execution_count": 59,
      "outputs": [
        {
          "output_type": "stream",
          "name": "stdout",
          "text": [
            "output: cd dc\n",
            "output: abb abb bab bba bab bba\n"
          ]
        }
      ]
    },
    {
      "cell_type": "markdown",
      "source": [
        "<aside>\n",
        "💡 **Question 8**\n",
        "\n",
        "Given a string, count total number of consonants in it. A consonant is an English alphabet character that is not vowel (a, e, i, o and u). Examples of constants are b, c, d, f, and g.\n",
        "\n",
        "**Examples :**\n",
        "```\n",
        "Input : abc de\n",
        "Output : 3\n",
        "There are three consonants b, c and d.\n",
        "\n",
        "Input : geeksforgeeks portal\n",
        "Output : 12\n",
        "```\n",
        "</aside>"
      ],
      "metadata": {
        "id": "H37SzRdcD9_U"
      }
    },
    {
      "cell_type": "code",
      "source": [
        "def consonants(string):\n",
        "  count = 0\n",
        "  string = string.lower()\n",
        "\n",
        "  for i in string:\n",
        "    if i.isalpha() and i not in 'aeiou':\n",
        "      count += 1\n",
        "\n",
        "  return count"
      ],
      "metadata": {
        "id": "_vkTJEIiDjXQ"
      },
      "execution_count": 60,
      "outputs": []
    },
    {
      "cell_type": "code",
      "source": [
        "string = \"abc de\"\n",
        "print(f'output: {consonants(string)}')\n",
        "\n",
        "string = \"geeksforgeeks portal\"\n",
        "print(f'output: {consonants(string)}')"
      ],
      "metadata": {
        "colab": {
          "base_uri": "https://localhost:8080/"
        },
        "id": "Vmv8VwP8EZFZ",
        "outputId": "2e87012c-1d3e-4e42-8f66-34b7812e04fd"
      },
      "execution_count": 61,
      "outputs": [
        {
          "output_type": "stream",
          "name": "stdout",
          "text": [
            "output: 3\n",
            "output: 12\n"
          ]
        }
      ]
    },
    {
      "cell_type": "code",
      "source": [],
      "metadata": {
        "id": "7isSYlJFEjYn"
      },
      "execution_count": null,
      "outputs": []
    }
  ]
}