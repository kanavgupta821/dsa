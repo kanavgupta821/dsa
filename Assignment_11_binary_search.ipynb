{
  "nbformat": 4,
  "nbformat_minor": 0,
  "metadata": {
    "colab": {
      "provenance": []
    },
    "kernelspec": {
      "name": "python3",
      "display_name": "Python 3"
    },
    "language_info": {
      "name": "python"
    }
  },
  "cells": [
    {
      "cell_type": "markdown",
      "source": [
        "<aside>\n",
        "💡 **Question 1**\n",
        "\n",
        "Given a non-negative integer `x`, return *the square root of* `x` *rounded down to the nearest integer*. The returned integer should be **non-negative** as well.\n",
        "\n",
        "You **must not use** any built-in exponent function or operator.\n",
        "\n",
        "- For example, do not use `pow(x, 0.5)` in c++ or `x ** 0.5` in python.\n",
        "\n",
        "**Example 1:**\n",
        "\n",
        "```\n",
        "Input: x = 4\n",
        "Output: 2\n",
        "Explanation: The square root of 4 is 2, so we return 2.\n",
        "\n",
        "```\n",
        "\n",
        "**Example 2:**\n",
        "```\n",
        "Input: x = 8\n",
        "Output: 2\n",
        "Explanation: The square root of 8 is 2.82842..., and since we round it down to the nearest integer, 2 is returned.\n",
        "```\n",
        "</aside>"
      ],
      "metadata": {
        "id": "_WOhV20jX5RX"
      }
    },
    {
      "cell_type": "code",
      "source": [
        "def sqrt(x):\n",
        "  if x < 2:\n",
        "    return x\n",
        "\n",
        "  left = 1\n",
        "  right = x\n",
        "  while left <= right:\n",
        "    mid = (left + right) // 2\n",
        "    if mid * mid == x:\n",
        "      return mid\n",
        "    elif mid * mid < x:\n",
        "      left = mid + 1\n",
        "    else:\n",
        "      right = mid - 1\n",
        "\n",
        "  return right"
      ],
      "metadata": {
        "id": "83DxHof0YeFN"
      },
      "execution_count": 1,
      "outputs": []
    },
    {
      "cell_type": "code",
      "source": [
        "print(f'output : {sqrt(4)}')\n",
        "print(f'output : {sqrt(8)}')"
      ],
      "metadata": {
        "colab": {
          "base_uri": "https://localhost:8080/"
        },
        "id": "-l3RHNjzY8KF",
        "outputId": "d505e90f-ae32-4044-fa92-7ed05a8ba3fe"
      },
      "execution_count": 2,
      "outputs": [
        {
          "output_type": "stream",
          "name": "stdout",
          "text": [
            "output : 2\n",
            "output : 2\n"
          ]
        }
      ]
    },
    {
      "cell_type": "markdown",
      "source": [
        "<aside>\n",
        "💡 **Question 2**\n",
        "\n",
        "A peak element is an element that is strictly greater than its neighbors.\n",
        "\n",
        "Given a **0-indexed** integer array `nums`, find a peak element, and return its index. If the array contains multiple peaks, return the index to **any of the peaks**.\n",
        "\n",
        "You may imagine that `nums[-1] = nums[n] = -∞`. In other words, an element is always considered to be strictly greater than a neighbor that is outside the array.\n",
        "\n",
        "You must write an algorithm that runs in `O(log n)` time.\n",
        "\n",
        "**Example 1:**\n",
        "\n",
        "```\n",
        "Input: nums = [1,2,3,1]\n",
        "Output: 2\n",
        "Explanation: 3 is a peak element and your function should return the index number 2.\n",
        "```\n",
        "\n",
        "**Example 2:**\n",
        "\n",
        "```\n",
        "Input: nums = [1,2,1,3,5,6,4]\n",
        "Output: 5\n",
        "Explanation: Your function can return either index number 1 where the peak element is 2, or index number 5 where the peak element is 6.\n",
        "```\n",
        "\n",
        "</aside>\n"
      ],
      "metadata": {
        "id": "lF8WHf5hX5UN"
      }
    },
    {
      "cell_type": "code",
      "source": [
        "def peakelement(nums):\n",
        "  left = 0\n",
        "  right = len(nums) - 1\n",
        "\n",
        "  while left < right:\n",
        "    mid = (left + right)//2\n",
        "    if nums[mid] > nums[mid + 1] and nums[mid] > nums[mid - 1]:\n",
        "      return mid\n",
        "    elif nums[mid] < nums[mid + 1]:\n",
        "      left = mid + 1\n",
        "    else:\n",
        "      right = mid - 1\n",
        "  return left"
      ],
      "metadata": {
        "id": "NCcGJ7vmaXRn"
      },
      "execution_count": 3,
      "outputs": []
    },
    {
      "cell_type": "code",
      "source": [
        "print(f'output : {peakelement([1, 2, 3, 1])}')\n",
        "print(f'output : {peakelement([1, 2, 1, 3, 5, 6, 4])}')"
      ],
      "metadata": {
        "colab": {
          "base_uri": "https://localhost:8080/"
        },
        "id": "aSERgejbbBSL",
        "outputId": "99fd9241-e06c-41c4-e614-2d253f05269c"
      },
      "execution_count": 4,
      "outputs": [
        {
          "output_type": "stream",
          "name": "stdout",
          "text": [
            "output : 2\n",
            "output : 5\n"
          ]
        }
      ]
    },
    {
      "cell_type": "markdown",
      "source": [
        "<aside>\n",
        "💡 **Question 3**\n",
        "\n",
        "\n",
        "Given an array `nums` containing `n` distinct numbers in the range `[0, n]`, return *the only number in the range that is missing from the array.*\n",
        "\n",
        "**Example 1:**\n",
        "\n",
        "```\n",
        "Input: nums = [3,0,1]\n",
        "Output: 2\n",
        "Explanation: n = 3 since there are 3 numbers, so all numbers are in the range [0,3]. 2 is the missing number in the range since it does not appear in nums.\n",
        "\n",
        "```\n",
        "\n",
        "**Example 2:**\n",
        "\n",
        "```\n",
        "Input: nums = [0,1]\n",
        "Output: 2\n",
        "Explanation: n = 2 since there are 2 numbers, so all numbers are in the range [0,2]. 2 is the missing number in the range since it does not appear in nums.\n",
        "\n",
        "```\n",
        "\n",
        "**Example 3:**\n",
        "\n",
        "```\n",
        "Input: nums = [9,6,4,2,3,5,7,0,1]\n",
        "Output: 8\n",
        "Explanation: n = 9 since there are 9 numbers, so all numbers are in the range [0,9]. 8 is the missing number in the range since it does not appear in nums.\n",
        "```\n",
        "\n",
        "</aside>\n"
      ],
      "metadata": {
        "id": "tPNnXOJCbPTc"
      }
    },
    {
      "cell_type": "code",
      "source": [
        "def missingnumber(nums):\n",
        "    n = len(nums)\n",
        "    for i in range(n+1):\n",
        "        if i not in nums:\n",
        "            return i"
      ],
      "metadata": {
        "id": "n708GhA4cxbN"
      },
      "execution_count": 5,
      "outputs": []
    },
    {
      "cell_type": "code",
      "source": [
        "print(f'output : {missingnumber([3, 0, 1])}')\n",
        "print(f'output : {missingnumber([0, 1])}')\n",
        "print(f'output : {missingnumber([9, 6, 4, 2, 3, 5, 7, 0, 1])}')"
      ],
      "metadata": {
        "colab": {
          "base_uri": "https://localhost:8080/"
        },
        "id": "oq9jYgsZcPC7",
        "outputId": "c5173025-2fc6-4b83-81ca-61904d768b8a"
      },
      "execution_count": 6,
      "outputs": [
        {
          "output_type": "stream",
          "name": "stdout",
          "text": [
            "output : 2\n",
            "output : 2\n",
            "output : 8\n"
          ]
        }
      ]
    },
    {
      "cell_type": "markdown",
      "source": [
        "<aside>\n",
        "💡 **Question 4**\n",
        "\n",
        "Given an array of integers `nums` containing `n + 1` integers where each integer is in the range `[1, n]` inclusive.\n",
        "\n",
        "There is only **one repeated number** in `nums`, return *this repeated number*.\n",
        "\n",
        "You must solve the problem **without** modifying the array `nums` and uses only constant extra space.\n",
        "\n",
        "**Example 1:**\n",
        "\n",
        "```\n",
        "Input: nums = [1,3,4,2,2]\n",
        "Output: 2\n",
        "\n",
        "```\n",
        "\n",
        "**Example 2:**\n",
        "\n",
        "```\n",
        "Input: nums = [3,1,3,4,2]\n",
        "Output: 3\n",
        "```\n",
        "\n",
        "</aside>\n"
      ],
      "metadata": {
        "id": "l95NspwgX5Zc"
      }
    },
    {
      "cell_type": "code",
      "source": [
        "def duplicate(nums):\n",
        "    n = len(nums)\n",
        "    left = 1\n",
        "    right = n\n",
        "\n",
        "    while left <= right:\n",
        "      mid = (left + right) // 2\n",
        "      count = sum(1 for num in nums if num <= mid)\n",
        "\n",
        "      if count > mid:\n",
        "        right = mid - 1\n",
        "      else:\n",
        "        left = mid + 1\n",
        "\n",
        "    return left\n"
      ],
      "metadata": {
        "id": "-jx17AWddjVD"
      },
      "execution_count": 7,
      "outputs": []
    },
    {
      "cell_type": "code",
      "source": [
        "print(f'output : {duplicate([1, 3, 4, 2, 2])}')\n",
        "print(f'output : {duplicate([3, 1, 3, 4, 2])}')"
      ],
      "metadata": {
        "colab": {
          "base_uri": "https://localhost:8080/"
        },
        "id": "eaWHmlM_dkPv",
        "outputId": "b5b183a3-5bd2-43b5-cedd-641f0237269e"
      },
      "execution_count": 8,
      "outputs": [
        {
          "output_type": "stream",
          "name": "stdout",
          "text": [
            "output : 2\n",
            "output : 3\n"
          ]
        }
      ]
    },
    {
      "cell_type": "markdown",
      "source": [
        "<aside>\n",
        "💡 **Question 5**\n",
        "\n",
        "Given two integer arrays `nums1` and `nums2`, return *an array of their intersection*. Each element in the result must be **unique** and you may return the result in **any order**.\n",
        "\n",
        "**Example 1:**\n",
        "\n",
        "```\n",
        "Input: nums1 = [1,2,2,1], nums2 = [2,2]\n",
        "Output: [2]\n",
        "\n",
        "```\n",
        "\n",
        "**Example 2:**\n",
        "\n",
        "```\n",
        "Input: nums1 = [4,9,5], nums2 = [9,4,9,8,4]\n",
        "Output: [9,4]\n",
        "Explanation: [4,9] is also accepted.\n",
        "```\n",
        "\n",
        "</aside>"
      ],
      "metadata": {
        "id": "APHTK3N8X5cY"
      }
    },
    {
      "cell_type": "code",
      "source": [
        "def intersection(nums1, nums2):\n",
        "  set1 = set(nums1)\n",
        "  result = set()\n",
        "\n",
        "  for num in nums2:\n",
        "    if num in set1:\n",
        "      result.add(num)\n",
        "\n",
        "  return list(result)"
      ],
      "metadata": {
        "id": "7_LHKG-sepCv"
      },
      "execution_count": 9,
      "outputs": []
    },
    {
      "cell_type": "code",
      "source": [
        "print(intersection([1, 2, 2, 1], [2, 2]))\n",
        "print(intersection([4, 9, 5], [9, 4, 9, 8, 4]))"
      ],
      "metadata": {
        "colab": {
          "base_uri": "https://localhost:8080/"
        },
        "id": "4bxftT1beqyb",
        "outputId": "7c6368cb-7203-4630-8827-80904189777e"
      },
      "execution_count": 10,
      "outputs": [
        {
          "output_type": "stream",
          "name": "stdout",
          "text": [
            "[2]\n",
            "[9, 4]\n"
          ]
        }
      ]
    },
    {
      "cell_type": "markdown",
      "source": [
        "<aside>\n",
        "💡 **Question 6**\n",
        "\n",
        "Suppose an array of length `n` sorted in ascending order is **rotated** between `1` and `n` times. For example, the array `nums = [0,1,2,4,5,6,7]` might become:\n",
        "\n",
        "- `[4,5,6,7,0,1,2]` if it was rotated `4` times.\n",
        "- `[0,1,2,4,5,6,7]` if it was rotated `7` times.\n",
        "\n",
        "Notice that **rotating** an array `[a[0], a[1], a[2], ..., a[n-1]]` 1 time results in the array `[a[n-1], a[0], a[1], a[2], ..., a[n-2]]`.\n",
        "\n",
        "Given the sorted rotated array `nums` of **unique** elements, return *the minimum element of this array*.\n",
        "\n",
        "You must write an algorithm that runs in `O(log n) time.`\n",
        "\n",
        "**Example 1:**\n",
        "\n",
        "```\n",
        "Input: nums = [3,4,5,1,2]\n",
        "Output: 1\n",
        "Explanation: The original array was [1,2,3,4,5] rotated 3 times.\n",
        "\n",
        "```\n",
        "\n",
        "**Example 2:**\n",
        "\n",
        "```\n",
        "Input: nums = [4,5,6,7,0,1,2]\n",
        "Output: 0\n",
        "Explanation: The original array was [0,1,2,4,5,6,7] and it was rotated 4 times.\n",
        "\n",
        "```\n",
        "\n",
        "**Example 3:**\n",
        "\n",
        "```\n",
        "Input: nums = [11,13,15,17]\n",
        "Output: 11\n",
        "Explanation: The original array was [11,13,15,17] and it was rotated 4 times.\n",
        "```\n",
        "\n",
        "</aside>\n"
      ],
      "metadata": {
        "id": "LKhrvDCMX5fo"
      }
    },
    {
      "cell_type": "code",
      "source": [
        "def minimum(nums):\n",
        "    left = 0\n",
        "    right = len(nums) - 1\n",
        "\n",
        "    while left < right:\n",
        "      mid = (left + right) // 2\n",
        "\n",
        "      if nums[mid] < nums[right]:\n",
        "        right = mid\n",
        "      else:\n",
        "        left = mid + 1\n",
        "\n",
        "    return nums[left]"
      ],
      "metadata": {
        "id": "-eCMxxCmfSFM"
      },
      "execution_count": 11,
      "outputs": []
    },
    {
      "cell_type": "code",
      "source": [
        "print(minimum([3, 4, 5, 1, 2]))\n",
        "print(minimum([4, 5, 6, 7, 0, 1, 2]))\n",
        "print(minimum([11, 13, 15, 17]))"
      ],
      "metadata": {
        "colab": {
          "base_uri": "https://localhost:8080/"
        },
        "id": "cWI64iFffSxN",
        "outputId": "44790e63-b3d2-46e7-a872-6a8ed2e4f68f"
      },
      "execution_count": 12,
      "outputs": [
        {
          "output_type": "stream",
          "name": "stdout",
          "text": [
            "1\n",
            "0\n",
            "11\n"
          ]
        }
      ]
    },
    {
      "cell_type": "markdown",
      "source": [
        "<aside>\n",
        "💡 **Question 7**\n",
        "\n",
        "Given an array of integers `nums` sorted in non-decreasing order, find the starting and ending position of a given `target` value.\n",
        "\n",
        "If `target` is not found in the array, return `[-1, -1]`.\n",
        "\n",
        "You must write an algorithm with `O(log n)` runtime complexity.\n",
        "\n",
        "**Example 1:**\n",
        "\n",
        "```\n",
        "Input: nums = [5,7,7,8,8,10], target = 8\n",
        "Output: [3,4]\n",
        "\n",
        "```\n",
        "\n",
        "**Example 2:**\n",
        "\n",
        "```\n",
        "Input: nums = [5,7,7,8,8,10], target = 6\n",
        "Output: [-1,-1]\n",
        "\n",
        "```\n",
        "\n",
        "**Example 3:**\n",
        "\n",
        "```\n",
        "Input: nums = [], target = 0\n",
        "Output: [-1,-1]\n",
        "```\n",
        "\n",
        "</aside>\n"
      ],
      "metadata": {
        "id": "84vudEdOcDcZ"
      }
    },
    {
      "cell_type": "code",
      "source": [
        "def range(nums, target):\n",
        "  left = 0\n",
        "  right = len(nums) - 1\n",
        "  leftIndex = rightIndex = -1\n",
        "\n",
        "  while left <= right:\n",
        "    mid = (left + right) // 2\n",
        "\n",
        "    if nums[mid] == target:\n",
        "      leftIndex = mid\n",
        "      right = mid - 1\n",
        "    elif nums[mid] > target:\n",
        "      right = mid - 1\n",
        "    else:\n",
        "      left = mid + 1\n",
        "\n",
        "  left, right = 0, len(nums) - 1\n",
        "\n",
        "  while left <= right:\n",
        "    mid = (left + right) // 2\n",
        "\n",
        "    if nums[mid] == target:\n",
        "      rightIndex = mid\n",
        "      left = mid + 1\n",
        "    elif nums[mid] > target:\n",
        "      right = mid - 1\n",
        "    else:\n",
        "      left = mid + 1\n",
        "\n",
        "  return [leftIndex, rightIndex]"
      ],
      "metadata": {
        "id": "b5S4yJsQg5X_"
      },
      "execution_count": 13,
      "outputs": []
    },
    {
      "cell_type": "code",
      "source": [
        "print(f'output : {range([5, 7, 7, 8, 8, 10], 8)}')\n",
        "print(f'output : {range([5, 7, 7, 8, 8, 10], 6)}')\n",
        "print(f'output : {range([], 0)}')"
      ],
      "metadata": {
        "colab": {
          "base_uri": "https://localhost:8080/"
        },
        "id": "1yBohvX9g6WI",
        "outputId": "a1f452f4-77ea-4270-c533-0d461dcbaae4"
      },
      "execution_count": 14,
      "outputs": [
        {
          "output_type": "stream",
          "name": "stdout",
          "text": [
            "output : [3, 4]\n",
            "output : [-1, -1]\n",
            "output : [-1, -1]\n"
          ]
        }
      ]
    },
    {
      "cell_type": "markdown",
      "source": [
        "<aside>\n",
        "💡 **Question 8**\n",
        "\n",
        "Given two integer arrays `nums1` and `nums2`, return *an array of their intersection*. Each element in the result must appear as many times as it shows in both arrays and you may return the result in **any order**.\n",
        "\n",
        "**Example 1:**\n",
        "\n",
        "```\n",
        "Input: nums1 = [1,2,2,1], nums2 = [2,2]\n",
        "Output: [2,2]\n",
        "\n",
        "```\n",
        "\n",
        "**Example 2:**\n",
        "\n",
        "```\n",
        "Input: nums1 = [4,9,5], nums2 = [9,4,9,8,4]\n",
        "Output: [4,9]\n",
        "Explanation: [9,4] is also accepted.\n",
        "```\n",
        "\n",
        "</aside>"
      ],
      "metadata": {
        "id": "Z0ONfA6_cH4w"
      }
    },
    {
      "cell_type": "code",
      "source": [],
      "metadata": {
        "id": "0G5e7MpHcChv"
      },
      "execution_count": null,
      "outputs": []
    }
  ]
}