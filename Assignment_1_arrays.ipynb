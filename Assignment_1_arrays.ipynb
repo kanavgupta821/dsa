{
  "nbformat": 4,
  "nbformat_minor": 0,
  "metadata": {
    "colab": {
      "provenance": []
    },
    "kernelspec": {
      "name": "python3",
      "display_name": "Python 3"
    },
    "language_info": {
      "name": "python"
    }
  },
  "cells": [
    {
      "cell_type": "markdown",
      "source": [
        "##  **Q1.** Given an array of integers nums and an integer target, return indices of the two numbers such that they add up to target.\n",
        "##You may assume that each input would have exactly one solution, and you may not use the same element twice.\n",
        "\n",
        "##You can return the answer in any order.\n",
        "\n",
        "##**Example:**\n",
        "##Input: nums = [2,7,11,15], target = 9\n",
        "##Output: [0,1]\n",
        "\n",
        "##**Explanation:** Because nums[0] + nums[1] == 9, we return [0, 1]"
      ],
      "metadata": {
        "id": "MNMjdCWH2zTb"
      }
    },
    {
      "cell_type": "code",
      "execution_count": 13,
      "metadata": {
        "colab": {
          "base_uri": "https://localhost:8080/"
        },
        "id": "iWCOzjrZ2wnF",
        "outputId": "33b94fe6-d6f7-49a9-cc7d-62b59bfaaf35"
      },
      "outputs": [
        {
          "output_type": "stream",
          "name": "stdout",
          "text": [
            "[0, 2]\n"
          ]
        }
      ],
      "source": [
        "def twosum(nums,target):\n",
        "  d = {}                                 # empty dictionary to store the values and indices\n",
        "  for i in range(len(nums)):\n",
        "    x = target - nums[i]                 # For each number at index i, calculate the x = target - nums[i].\n",
        "    if x in d:                           # Check if the complement exists in dictionary\n",
        "      return [d[x],i]                    # If it does, return the current index i and the index stored in the dictionary for the x.\n",
        "    d[nums[i]] = i                       # If it doesn't, store the current number and its index in the dictionary.\n",
        "  return []\n",
        "\n",
        "nums = [2, 11, 7, 15]\n",
        "target = 9\n",
        "result = twosum(nums, target)\n",
        "print(result)\n"
      ]
    },
    {
      "cell_type": "markdown",
      "source": [
        "## **Q2.** Given an integer array nums and an integer val, remove all occurrences of val in nums in-place. The order of the elements may be changed. Then return the number of elements in nums which are not equal to val.\n",
        "\n",
        "##Consider the number of elements in nums which are not equal to val be k, to get accepted, you need to do the following things:\n",
        "\n",
        "## - Change the array nums such that the first k elements of nums contain the elements which are not equal to val. The remaining elements of nums are not important as well as the size of nums.\n",
        "## - Return k.\n",
        "\n",
        "##**Example :**\n",
        "##Input: nums = [3,2,2,3], val = 3\n",
        "##Output: 2, nums = [2,2,_*,_*]\n",
        "\n",
        "##**Explanation:** Your function should return k = 2, with the first two elements of nums being 2. It does not matter what you leave beyond the returned k (hence they are underscores)"
      ],
      "metadata": {
        "id": "335ObsNh_gal"
      }
    },
    {
      "cell_type": "code",
      "source": [
        "def removeElement(nums, val):\n",
        "    i = 0\n",
        "    for j in range(len(nums)):               # Initialize two pointers, i and j, to 0. Iterate through the array with the j pointer:\n",
        "        if nums[j] != val:                   # If the element at nums[j] is not equal to val, assign nums[j] to nums[i] and increment both i and j.\n",
        "            nums[i] = nums[j]                # If the element at nums[j] is equal to val, increment only the j pointer to skip this element.\n",
        "            i += 1       \n",
        "    \n",
        "    for j in range(i, len(nums)):\n",
        "        nums[j] = '*'\n",
        "    \n",
        "    return i                                 # Return the value of i as the number of elements in nums that are not equal to val.\n",
        "\n",
        "nums = [3, 2, 2, 3, 3, 2]\n",
        "val = 3\n",
        "k = removeElement(nums, val)\n",
        "print(k)  # Output: 2\n",
        "print(nums)  \n"
      ],
      "metadata": {
        "colab": {
          "base_uri": "https://localhost:8080/"
        },
        "id": "0P_2yWc23uHl",
        "outputId": "8187b6cd-e96e-4f10-a9e4-0c6c38f39b2a"
      },
      "execution_count": 26,
      "outputs": [
        {
          "output_type": "stream",
          "name": "stdout",
          "text": [
            "3\n",
            "[2, 2, 2, '*', '*', '*']\n"
          ]
        }
      ]
    },
    {
      "cell_type": "markdown",
      "source": [
        "## **Q3.** Given a sorted array of distinct integers and a target value, return the index if the target is found. If not, return the index where it would be if it were inserted in order.\n",
        "\n",
        "##You must write an algorithm with O(log n) runtime complexity.\n",
        "\n",
        "##**Example 1:**\n",
        "##Input: nums = [1,3,5,6], target = 5\n",
        "\n",
        "##Output: 2\n"
      ],
      "metadata": {
        "id": "GfnlOAfdLOg2"
      }
    },
    {
      "cell_type": "code",
      "source": [
        "def searchelement(nums, target):\n",
        "    left = 0 \n",
        "    right = len(nums) - 1\n",
        "    \n",
        "    while left <= right:\n",
        "        mid = (left + right) // 2\n",
        "        if nums[mid] == target:\n",
        "            return mid\n",
        "        elif nums[mid] < target:\n",
        "            left = mid + 1\n",
        "        else:\n",
        "            right = mid - 1\n",
        "    \n",
        "    return left\n",
        "\n",
        "\n",
        "nums = [1, 3, 5, 6]\n",
        "target = 5\n",
        "result = searchelement(nums, target)\n",
        "print(f\"output : {result}\")\n"
      ],
      "metadata": {
        "colab": {
          "base_uri": "https://localhost:8080/"
        },
        "id": "uNDIpGiw30gw",
        "outputId": "3cdb2172-688d-45a7-c3b4-f3f2114e1fb7"
      },
      "execution_count": 2,
      "outputs": [
        {
          "output_type": "stream",
          "name": "stdout",
          "text": [
            "output : 2\n"
          ]
        }
      ]
    },
    {
      "cell_type": "markdown",
      "source": [
        "## **Q4.** You are given a large integer represented as an integer array digits, where each digits[i] is the ith digit of the integer. The digits are ordered from most significant to least significant in left-to-right order. The large integer does not contain any leading 0's.\n",
        "\n",
        "##Increment the large integer by one and return the resulting array of digits.\n",
        "\n",
        "##**Example 1:**\n",
        "##Input: digits = [1,2,3]\n",
        "##Output: [1,2,4]\n",
        "\n",
        "##**Explanation:** The array represents the integer 123.\n",
        "\n",
        "##Incrementing by one gives 123 + 1 = 124.\n",
        "##Thus, the result should be [1,2,4]."
      ],
      "metadata": {
        "id": "jr1X72RLNSvS"
      }
    },
    {
      "cell_type": "code",
      "source": [
        "def addone(digits):\n",
        "  x = len(digits) - 1\n",
        "  while x >= 0:                          # iterate over the array in reverse order\n",
        "    if(digits[x] == 9):                  # if last element is 0 it will go to previous element and check the required condition\n",
        "      digits[x] = 0\n",
        "    else:\n",
        "      digits[x] += 1                     # adds 1 to the element meeting the condition\n",
        "      return digits\n",
        "    x -= 1\n",
        "  return [1] + digits                      \n",
        "\n",
        "digits = [1, 2, 3]\n",
        "result = addone(digits)\n",
        "print(f\"output : {result}\")"
      ],
      "metadata": {
        "colab": {
          "base_uri": "https://localhost:8080/"
        },
        "id": "RbBC9xCVxbKR",
        "outputId": "b687150f-5de3-47e3-979e-28c9977be6fb"
      },
      "execution_count": 10,
      "outputs": [
        {
          "output_type": "stream",
          "name": "stdout",
          "text": [
            "output : [1, 2, 4]\n"
          ]
        }
      ]
    },
    {
      "cell_type": "code",
      "source": [
        "digits = [9, 9, 9]\n",
        "addone(digits)"
      ],
      "metadata": {
        "colab": {
          "base_uri": "https://localhost:8080/"
        },
        "id": "g0YKZxrhyuOv",
        "outputId": "567b1963-c80c-4ada-c0f5-f1682fd4d524"
      },
      "execution_count": 11,
      "outputs": [
        {
          "output_type": "execute_result",
          "data": {
            "text/plain": [
              "[1, 0, 0, 0]"
            ]
          },
          "metadata": {},
          "execution_count": 11
        }
      ]
    },
    {
      "cell_type": "markdown",
      "source": [
        "## **Q5.** You are given two integer arrays nums1 and nums2, sorted in non-decreasing order, and two integers m and n, representing the number of elements in nums1 and nums2 respectively.\n",
        "\n",
        "##Merge nums1 and nums2 into a single array sorted in non-decreasing order.\n",
        "\n",
        "##The final sorted array should not be returned by the function, but instead be stored inside the array nums1. To accommodate this, nums1 has a length of m + n, where the first m elements denote the elements that should be merged, and the last n elements are set to 0 and should be ignored. nums2 has a length of n.\n",
        "\n",
        "##**Example 1:**\n",
        "##Input: nums1 = [1,2,3,0,0,0], m = 3, nums2 = [2,5,6], n = 3\n",
        "##Output: [1,2,2,3,5,6]\n",
        "\n",
        "##**Explanation:** The arrays we are merging are [1,2,3] and [2,5,6].\n",
        "##The result of the merge is [1,2,2,3,5,6] with the underlined elements coming from nums1."
      ],
      "metadata": {
        "id": "eex4zls83Ml7"
      }
    },
    {
      "cell_type": "code",
      "source": [
        "def merge(nums1, m, nums2, n):\n",
        "    p1 = m - 1\n",
        "    p2 = n - 1\n",
        "    p = m + n - 1\n",
        "    \n",
        "    while p1 >= 0 and p2 >= 0:\n",
        "        if nums1[p1] > nums2[p2]:\n",
        "            nums1[p] = nums1[p1]\n",
        "            p1 -= 1\n",
        "        else:\n",
        "            nums1[p] = nums2[p2]\n",
        "            p2 -= 1\n",
        "        p -= 1\n",
        "    \n",
        "    # Copy remaining elements from nums2 to nums1\n",
        "    if p2 >= 0:\n",
        "        nums1[:p2 + 1] = nums2[:p2 + 1]\n",
        "    \n",
        "    return nums1\n",
        "\n",
        "\n",
        "nums1 = [1, 2, 3, 0, 0, 0]\n",
        "m = 3\n",
        "nums2 = [2, 5, 6]\n",
        "n = 3\n",
        "result = merge(nums1, m, nums2, n)\n",
        "print(f\" Output : {result}\")  "
      ],
      "metadata": {
        "colab": {
          "base_uri": "https://localhost:8080/"
        },
        "id": "cZoEYlbb3X6y",
        "outputId": "e1c64810-6897-41e1-a6b0-68cff3cd708e"
      },
      "execution_count": 21,
      "outputs": [
        {
          "output_type": "stream",
          "name": "stdout",
          "text": [
            " Output : [1, 2, 2, 3, 5, 6]\n"
          ]
        }
      ]
    },
    {
      "cell_type": "markdown",
      "source": [
        "## **Q6.** Given an integer array nums, return true if any value appears at least twice in the array, and return false if every element is distinct.\n",
        "\n",
        "##**Example 1:**\n",
        "##Input: nums = [1,2,3,1]\n",
        "\n",
        "##Output: true\n"
      ],
      "metadata": {
        "id": "fK4R-lQgB5Is"
      }
    },
    {
      "cell_type": "code",
      "source": [
        "def distinct(nums):\n",
        "  l=[]\n",
        "  for i in nums:\n",
        "    if i not in l:\n",
        "      l.append(i)\n",
        "    elif i in l:\n",
        "      return 'true'\n",
        "      break\n",
        "  return 'false'\n",
        "\n",
        "nums = [1,2,3,1]\n",
        "result = distinct(nums)\n",
        "print(f\"Output : {result}\")"
      ],
      "metadata": {
        "colab": {
          "base_uri": "https://localhost:8080/"
        },
        "id": "DZ6TkwXDCCEq",
        "outputId": "27a532f0-4a8b-45f2-c325-8ce2f98c8f1d"
      },
      "execution_count": 29,
      "outputs": [
        {
          "output_type": "stream",
          "name": "stdout",
          "text": [
            "Output : true\n"
          ]
        }
      ]
    },
    {
      "cell_type": "code",
      "source": [
        "distinct([1,2,3,4])"
      ],
      "metadata": {
        "colab": {
          "base_uri": "https://localhost:8080/",
          "height": 36
        },
        "id": "SUqf4FiGDp8-",
        "outputId": "70d48a49-4eca-4a78-bce1-cc3513feddff"
      },
      "execution_count": 31,
      "outputs": [
        {
          "output_type": "execute_result",
          "data": {
            "text/plain": [
              "'false'"
            ],
            "application/vnd.google.colaboratory.intrinsic+json": {
              "type": "string"
            }
          },
          "metadata": {},
          "execution_count": 31
        }
      ]
    },
    {
      "cell_type": "markdown",
      "source": [
        "## **Q7.** Given an integer array nums, move all 0's to the end of it while maintaining the relative order of the nonzero elements.\n",
        "\n",
        "##Note that you must do this in-place without making a copy of the array.\n",
        "\n",
        "##**Example 1:**\n",
        "##Input: nums = [0,1,0,3,12]\n",
        "##Output: [1,3,12,0,0]"
      ],
      "metadata": {
        "id": "QVR6KbnxETH9"
      }
    },
    {
      "cell_type": "code",
      "source": [
        "def zeros(nums):\n",
        "    left = 0\n",
        "    right = 0\n",
        "    while right < len(nums):\n",
        "        if nums[right] != 0:\n",
        "            nums[left], nums[right] = nums[right], nums[left]\n",
        "            left += 1\n",
        "        right += 1\n",
        "    \n",
        "    return nums\n",
        "\n",
        "nums = [0, 1, 0, 3, 12]\n",
        "result = zeros(nums)\n",
        "print(f\"Output : {result}\")"
      ],
      "metadata": {
        "colab": {
          "base_uri": "https://localhost:8080/"
        },
        "id": "6TG7pqrHEa2h",
        "outputId": "0e4ae16f-c11a-4873-f9aa-947270c1c9b9"
      },
      "execution_count": 34,
      "outputs": [
        {
          "output_type": "stream",
          "name": "stdout",
          "text": [
            "Output : [1, 3, 12, 0, 0]\n"
          ]
        }
      ]
    },
    {
      "cell_type": "markdown",
      "source": [
        "## **Q8.** You have a set of integers s, which originally contains all the numbers from 1 to n. Unfortunately, due to some error, one of the numbers in s got duplicated to another number in the set, which results in repetition of one number and loss of another number.\n",
        "\n",
        "##You are given an integer array nums representing the data status of this set after the error.\n",
        "\n",
        "##Find the number that occurs twice and the number that is missing and return them in the form of an array.\n",
        "\n",
        "##**Example 1:**\n",
        "##Input: nums = [1,2,2,4]\n",
        "##Output: [2,3]"
      ],
      "metadata": {
        "id": "lBSvaGetOGKj"
      }
    },
    {
      "cell_type": "code",
      "source": [
        "def findErrorNums(nums):\n",
        "    s = []\n",
        "    duplicate = 0\n",
        "    total = 0\n",
        "    \n",
        "    for num in nums:\n",
        "        if num not in s:\n",
        "          s.append(num)\n",
        "        elif num in s:\n",
        "          duplicate = num\n",
        "       \n",
        "        total += num\n",
        "    \n",
        "    n = len(nums)\n",
        "    expected_total = (n * (n + 1)) // 2\n",
        "    missing = expected_total - total + duplicate\n",
        "    \n",
        "    return [duplicate, missing]\n",
        "\n",
        "nums = [1, 2, 2, 4]\n",
        "result = findErrorNums(nums)\n",
        "print(f\"Output : {result}\")"
      ],
      "metadata": {
        "colab": {
          "base_uri": "https://localhost:8080/"
        },
        "id": "W1kRXZkFOMwL",
        "outputId": "5be44e46-2c8b-470e-ae34-65630c7bdc8c"
      },
      "execution_count": 41,
      "outputs": [
        {
          "output_type": "stream",
          "name": "stdout",
          "text": [
            "Output : [2, 3]\n"
          ]
        }
      ]
    },
    {
      "cell_type": "code",
      "source": [],
      "metadata": {
        "id": "N3fHBrm_PEk9"
      },
      "execution_count": null,
      "outputs": []
    }
  ]
}