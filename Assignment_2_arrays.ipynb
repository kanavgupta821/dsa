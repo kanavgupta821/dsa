{
  "nbformat": 4,
  "nbformat_minor": 0,
  "metadata": {
    "colab": {
      "provenance": []
    },
    "kernelspec": {
      "name": "python3",
      "display_name": "Python 3"
    },
    "language_info": {
      "name": "python"
    }
  },
  "cells": [
    {
      "cell_type": "markdown",
      "source": [
        "## **Question 1**\n",
        "##Given an integer array nums of 2n integers, group these integers into n pairs (a1, b1), (a2, b2),..., (an, bn) such that the sum of min(ai, bi) for all i is maximized. Return the maximized sum.\n",
        "\n",
        "##**Example 1:**\n",
        "##Input: nums = [1,4,3,2]\n",
        "##Output: 4\n",
        "\n",
        "##**Explanation:** All possible pairings (ignoring the ordering of elements) are:\n",
        "\n",
        "1. (1, 4), (2, 3) -> min(1, 4) + min(2, 3) = 1 + 2 = 3\n",
        "2. (1, 3), (2, 4) -> min(1, 3) + min(2, 4) = 1 + 2 = 3\n",
        "3. (1, 2), (3, 4) -> min(1, 2) + min(3, 4) = 1 + 3 = 4\n",
        "##So the maximum possible sum is 4"
      ],
      "metadata": {
        "id": "xwXjKr2-uUgb"
      }
    },
    {
      "cell_type": "code",
      "source": [
        "def arraysum(nums):\n",
        "  nums.sort()                                             # Sort the array in ascending order\n",
        "  max_sum = 0                                             # Initialize the maximum sum to 0\n",
        "\n",
        "  for i in range(0, len(nums), 2):\n",
        "    max_sum += nums[i]                                  # Add the smaller value of each pair to max_sum\n",
        "\n",
        "  return max_sum\n",
        "\n",
        "nums = [1,4,3,2]\n",
        "result = arraysum(nums)\n",
        "print(f\"Output : {result}\")"
      ],
      "metadata": {
        "colab": {
          "base_uri": "https://localhost:8080/"
        },
        "id": "5zIAoGR4ucxX",
        "outputId": "c3207525-12b8-46b3-c18b-e81a5f19a588"
      },
      "execution_count": 11,
      "outputs": [
        {
          "output_type": "stream",
          "name": "stdout",
          "text": [
            "Output : 4\n"
          ]
        }
      ]
    },
    {
      "cell_type": "markdown",
      "source": [
        "## Question 2\n",
        "## Alice has n candies, where the ith candy is of type candyType[i]. Alice noticed that she started to gain weight, so she visited a doctor. \n",
        "\n",
        "## The doctor advised Alice to only eat n / 2 of the candies she has (n is always even). Alice likes her candies very much, and she wants to eat the maximum number of different types of candies while still following the doctor's advice. \n",
        "\n",
        "## Given the integer array candyType of length n, return the maximum number of different types of candies she can eat if she only eats n / 2 of them.\n",
        "\n",
        "## Example 1:\n",
        "## Input: candyType = [1,1,2,2,3,3]\n",
        "## Output: 3\n",
        "\n",
        "## Explanation: Alice can only eat 6 / 2 = 3 candies. Since there are only 3 types, she can eat one of each type."
      ],
      "metadata": {
        "id": "J47uYSo-xAUV"
      }
    },
    {
      "cell_type": "code",
      "source": [
        "def candy(nums):\n",
        "  unique = []\n",
        "  for i in nums:\n",
        "    if i not in unique:\n",
        "      unique.append(i)\n",
        "  return min(len(unique), len(nums)//2)\n",
        "\n",
        "nums = [1,1,2,2,3,3]\n",
        "result = candy(nums)\n",
        "print(f\"Output : {result}\")"
      ],
      "metadata": {
        "colab": {
          "base_uri": "https://localhost:8080/"
        },
        "id": "SEaQEkCtx1zZ",
        "outputId": "1da2ee9b-6b2a-4c4e-adc0-f559e903c608"
      },
      "execution_count": 12,
      "outputs": [
        {
          "output_type": "stream",
          "name": "stdout",
          "text": [
            "Output : 3\n"
          ]
        }
      ]
    },
    {
      "cell_type": "markdown",
      "source": [
        "## Question 3\n",
        "##We define a harmonious array as an array where the difference between its maximum value and its minimum value is exactly 1.\n",
        "\n",
        "##Given an integer array nums, return the length of its longest harmonious subsequence among all its possible subsequences.\n",
        "\n",
        "##A subsequence of an array is a sequence that can be derived from the array by deleting some or no elements without changing the order of the remaining elements.\n",
        "\n",
        "##Example 1:\n",
        "##Input: nums = [1,3,2,2,5,2,3,7]\n",
        "##Output: 5\n",
        "\n",
        "##Explanation: The longest harmonious subsequence is [3,2,2,2,3]."
      ],
      "metadata": {
        "id": "ZkSy1YITzPZ0"
      }
    },
    {
      "cell_type": "code",
      "source": [
        "import collections\n",
        "def harmonious(nums):\n",
        "  ans = 0\n",
        "  count = collections.Counter(nums)\n",
        "  print(count)\n",
        "\n",
        "  for num, freq in count.items():\n",
        "    if num + 1 in count:\n",
        "      ans = max(ans, freq + count[num + 1])\n",
        "\n",
        "  return ans\n",
        "\n",
        "nums = [1,3,2,2,5,2,3,7]\n",
        "result = harmonious(nums)\n",
        "print(f\"Output : {result}\")"
      ],
      "metadata": {
        "colab": {
          "base_uri": "https://localhost:8080/"
        },
        "id": "tytGDf15yKhc",
        "outputId": "e98d7471-07d9-454b-e245-108e4da4312f"
      },
      "execution_count": 13,
      "outputs": [
        {
          "output_type": "stream",
          "name": "stdout",
          "text": [
            "Counter({2: 3, 3: 2, 1: 1, 5: 1, 7: 1})\n",
            "Output : 5\n"
          ]
        }
      ]
    },
    {
      "cell_type": "markdown",
      "source": [
        "## Question 4\n",
        "##You have a long flowerbed in which some of the plots are planted, and some are not.\n",
        "##However, flowers cannot be planted in adjacent plots.\n",
        "##Given an integer array flowerbed containing 0's and 1's, where 0 means empty and 1 means not empty, and an integer n, return true if n new flowers can be planted in the flowerbed without violating the no-adjacent-flowers rule and false otherwise.\n",
        "\n",
        "##Example 1:\n",
        "##Input: flowerbed = [1,0,0,0,1], n = 1\n",
        "##Output: true"
      ],
      "metadata": {
        "id": "thl5CkRA22oy"
      }
    },
    {
      "cell_type": "code",
      "source": [
        "def flowers(flowerbed, n):\n",
        "  count = 0                                                     # Number of new flowers planted\n",
        "\n",
        "  for i in range(len(flowerbed)):\n",
        "    if (flowerbed[i] == 0 and (i == 0 or flowerbed[i - 1] == 0) and (i == len(flowerbed) - 1 or flowerbed[i + 1] == 0)):\n",
        "      flowerbed[i] = 1                                          # Plant a new flower\n",
        "      count += 1\n",
        "            \n",
        "      if count == n:\n",
        "        return True\n",
        "\n",
        "  return False\n",
        "\n",
        "flowerbed = [1,0,0,0,1]\n",
        "n = 1\n",
        "result = flowers(flowerbed, n)\n",
        "print(f\"Output : {result}\")"
      ],
      "metadata": {
        "colab": {
          "base_uri": "https://localhost:8080/"
        },
        "id": "meZKE3G12dno",
        "outputId": "6bf4aad4-882b-42ef-f8cb-af62c26a618a"
      },
      "execution_count": 14,
      "outputs": [
        {
          "output_type": "stream",
          "name": "stdout",
          "text": [
            "Output : True\n"
          ]
        }
      ]
    },
    {
      "cell_type": "markdown",
      "source": [
        "## Question 5\n",
        "##Given an integer array nums, find three numbers whose product is maximum and return the maximum product.\n",
        "\n",
        "##Example 1:\n",
        "##Input: nums = [1,2,3]\n",
        "##Output: 6"
      ],
      "metadata": {
        "id": "0i3uI-ZH4xgl"
      }
    },
    {
      "cell_type": "code",
      "source": [
        "def max_product(nums):\n",
        "  nums.sort()                                            # Sort the array in ascending order\n",
        "\n",
        "  max_product = nums[-1] * nums[-2] * nums[-3]           # product of 3 maximum positive numbers\n",
        "  alt_product = nums[0] * nums[1] * nums[-1]             # product of the two smallest numbers and the largest number in the sorted array \n",
        "\n",
        "  return max(max_product, alt_product)\n",
        "\n",
        "nums = [1,2,3]\n",
        "result = max_product(nums)\n",
        "print(f\"Output : {result}\")"
      ],
      "metadata": {
        "colab": {
          "base_uri": "https://localhost:8080/"
        },
        "id": "GX4RivWn3iMm",
        "outputId": "eaa63dbe-68e2-490f-a0c8-e3f863ffc53a"
      },
      "execution_count": 15,
      "outputs": [
        {
          "output_type": "stream",
          "name": "stdout",
          "text": [
            "Output : 6\n"
          ]
        }
      ]
    },
    {
      "cell_type": "markdown",
      "source": [
        "## Question 6\n",
        "## Given an array of integers nums which is sorted in ascending order, and an integer target, write a function to search target in nums. If target exists, then return its index. Otherwise, return -1.\n",
        "\n",
        "##You must write an algorithm with O(log n) runtime complexity.\n",
        "\n",
        "##Input: nums = [-1,0,3,5,9,12], target = 9\n",
        "##Output: 4\n",
        "\n",
        "##Explanation: 9 exists in nums and its index is 4"
      ],
      "metadata": {
        "id": "ei3v2Van69tr"
      }
    },
    {
      "cell_type": "code",
      "source": [
        "def search(nums, target):\n",
        "  left = 0\n",
        "  right = len(nums) - 1\n",
        "\n",
        "  while left <= right:\n",
        "    mid = (left + right) // 2\n",
        "\n",
        "    if nums[mid] == target:\n",
        "      return mid\n",
        "    elif nums[mid] > target:\n",
        "      right = mid - 1\n",
        "    else:\n",
        "      left = mid + 1\n",
        "\n",
        "  return -1\n",
        "\n",
        "nums = [-1,0,3,5,9,12]\n",
        "target = 9\n",
        "result = search(nums, target)\n",
        "print(f\"Output : {result}\")"
      ],
      "metadata": {
        "colab": {
          "base_uri": "https://localhost:8080/"
        },
        "id": "TzomsDir6hXE",
        "outputId": "97baaa13-5712-46a4-e211-14d08d02cc66"
      },
      "execution_count": 16,
      "outputs": [
        {
          "output_type": "stream",
          "name": "stdout",
          "text": [
            "Output : 4\n"
          ]
        }
      ]
    },
    {
      "cell_type": "markdown",
      "source": [
        "## Question 7\n",
        "## An array is monotonic if it is either monotone increasing or monotone decreasing.\n",
        "\n",
        "## An array nums is monotone increasing if for all i <= j, nums[i] <= nums[j]. An array nums is monotone decreasing if for all i <= j, nums[i] >= nums[j].\n",
        "\n",
        "## Given an integer array nums, return true if the given array is monotonic, or false otherwise.\n",
        "\n",
        "## Example 1:\n",
        "## Input: nums = [1,2,2,3]\n",
        "## Output: true"
      ],
      "metadata": {
        "id": "DaZlYIw166hd"
      }
    },
    {
      "cell_type": "code",
      "source": [
        "def monotonic(nums):\n",
        "  increasing = True                                            # Tracks if the array is non-decreasing\n",
        "  decreasing = True                                            # Tracks if the array is non-increasing\n",
        "\n",
        "  for i in range(1, len(nums)):\n",
        "    if nums[i] < nums[i - 1]:\n",
        "      increasing = False\n",
        "    if nums[i] > nums[i - 1]:\n",
        "      decreasing = False\n",
        "    if not increasing and not decreasing:\n",
        "      return False\n",
        "\n",
        "  return True\n",
        "\n",
        "nums = [1,2,2,3]\n",
        "result = monotonic(nums)\n",
        "print(f\"Output : {result}\")"
      ],
      "metadata": {
        "colab": {
          "base_uri": "https://localhost:8080/"
        },
        "id": "OT-OKblv7DQw",
        "outputId": "a01fd584-260e-4fde-e6ed-73e85d91a710"
      },
      "execution_count": 17,
      "outputs": [
        {
          "output_type": "stream",
          "name": "stdout",
          "text": [
            "Output : True\n"
          ]
        }
      ]
    },
    {
      "cell_type": "markdown",
      "source": [
        "##Question 8\n",
        "##You are given an integer array nums and an integer k.\n",
        "\n",
        "##In one operation, you can choose any index i where 0 <= i < nums.length and change nums[i] to nums[i] + x where x is an integer from the range [-k, k]. You can apply this operation at most once for each index i.\n",
        "\n",
        "##The score of nums is the difference between the maximum and minimum elements in nums.\n",
        "\n",
        "##Return the minimum score of nums after applying the mentioned operation at most once for each index in it.\n",
        "\n",
        "##Example 1:\n",
        "##Input: nums = [1], k = 0\n",
        "##Output: 0\n",
        "\n",
        "##Explanation: The score is max(nums) - min(nums) = 1 - 1 = 0."
      ],
      "metadata": {
        "id": "LRcb9kfJ9R_i"
      }
    },
    {
      "cell_type": "code",
      "source": [
        "def minimum_score(nums, k):\n",
        "  if len(nums) == 1:\n",
        "    return 0\n",
        "  if (max(nums) - k) - (min(nums) + k ) <= 0:\n",
        "    return 0\n",
        "  else:\n",
        "    return (max(nums) - k) - (min(nums) + k )\n",
        "\n",
        "nums = [1]\n",
        "k = 0\n",
        "result = minimum_score(nums,k)\n",
        "print(f\"Output : {result}\")"
      ],
      "metadata": {
        "colab": {
          "base_uri": "https://localhost:8080/"
        },
        "id": "Qx7xp2bt9Y-k",
        "outputId": "d8b31ce5-aa18-4ce1-bc16-687cd0278117"
      },
      "execution_count": 18,
      "outputs": [
        {
          "output_type": "stream",
          "name": "stdout",
          "text": [
            "Output : 0\n"
          ]
        }
      ]
    },
    {
      "cell_type": "code",
      "source": [],
      "metadata": {
        "id": "ZeX-rP-e_CUl"
      },
      "execution_count": 9,
      "outputs": []
    }
  ]
}