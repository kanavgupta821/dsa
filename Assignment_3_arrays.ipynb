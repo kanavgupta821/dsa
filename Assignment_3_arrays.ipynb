{
  "nbformat": 4,
  "nbformat_minor": 0,
  "metadata": {
    "colab": {
      "provenance": []
    },
    "kernelspec": {
      "name": "python3",
      "display_name": "Python 3"
    },
    "language_info": {
      "name": "python"
    }
  },
  "cells": [
    {
      "cell_type": "markdown",
      "source": [
        "## Question 1\n",
        "##Given an integer array nums of length n and an integer target, find three integers in nums such that the sum is closest to the target. Return the sum of the three integers.\n",
        "\n",
        "##You may assume that each input would have exactly one solution.\n",
        "\n",
        "##Example 1:\n",
        "##Input: nums = [-1,2,1,-4], target = 1\n",
        "##Output: 2\n",
        "\n",
        "## Explanation: The sum that is closest to the target is 2. (-1 + 2 + 1 = 2)."
      ],
      "metadata": {
        "id": "MOEI4X_H1E8Y"
      }
    },
    {
      "cell_type": "code",
      "execution_count": 18,
      "metadata": {
        "colab": {
          "base_uri": "https://localhost:8080/"
        },
        "id": "ohyRNZbD07mz",
        "outputId": "f45eeaf4-50f8-4dd8-d3fd-23f2f264ceb6"
      },
      "outputs": [
        {
          "output_type": "stream",
          "name": "stdout",
          "text": [
            "Output : 2\n"
          ]
        }
      ],
      "source": [
        "def closest(nums, target):\n",
        "  nums.sort()\n",
        "  res = sum(nums[:3])\n",
        "\n",
        "  for i in range(len(nums)-2):\n",
        "    left = i + 1\n",
        "    right = len(nums) - 1\n",
        "\n",
        "    while left < right:\n",
        "      sum1 = nums[i] + nums[left] + nums[right]\n",
        "\n",
        "      if sum1 == target:\n",
        "        return target\n",
        "\n",
        "      if abs(sum1 - target) < abs(res - target):\n",
        "        res = sum1\n",
        " \n",
        "      if sum1 > target:\n",
        "        right -= 1\n",
        "      else:\n",
        "        left += 1\n",
        "\n",
        "  return res\n",
        "\n",
        "nums = [-1,2,1,-4]\n",
        "target = 1\n",
        "result = closest(nums,target)\n",
        "print(f\"Output : {result}\")"
      ]
    },
    {
      "cell_type": "markdown",
      "source": [
        "## Question 2\n",
        "##Given an array nums of n integers, return an array of all the unique quadruplets \n",
        "##[nums[a], nums[b], nums[c], nums[d]] such that:\n",
        "           ● 0 <= a, b, c, d < n\n",
        "           ● a, b, c, and d are distinct.\n",
        "           ● nums[a] + nums[b] + nums[c] + nums[d] == target\n",
        "\n",
        "##You may return the answer in any order.\n",
        "\n",
        "##Example 1:\n",
        "##Input: nums = [1,0,-1,0,-2,2], target = 0\n",
        "##Output: [[-2,-1,1,2],[-2,0,0,2],[-1,0,0,1]]"
      ],
      "metadata": {
        "id": "H_7AEzx8UfJT"
      }
    },
    {
      "cell_type": "code",
      "source": [],
      "metadata": {
        "id": "LDidxFUe3zXp"
      },
      "execution_count": 6,
      "outputs": []
    },
    {
      "cell_type": "markdown",
      "source": [
        "## **Question 3**\n",
        "##A permutation of an array of integers is an arrangement of its members into a sequence or linear order.\n",
        "\n",
        "##For example, for arr = [1,2,3], the following are all the permutations of arr:\n",
        "##[1,2,3], [1,3,2], [2, 1, 3], [2, 3, 1], [3,1,2], [3,2,1].\n",
        "\n",
        "## The next permutation of an array of integers is the next lexicographically greater permutation of its integer. More formally, if all the permutations of the array are sorted in one container according to their lexicographical order, then the next permutation of that array is the permutation that follows it in the sorted container.\n",
        "\n",
        "## If such an arrangement is not possible, the array must be rearranged as the lowest possible order (i.e., sorted in ascending order).\n",
        "\n",
        "###● For example, the next permutation of arr = [1,2,3] is [1,3,2].\n",
        "###● Similarly, the next permutation of arr = [2,3,1] is [3,1,2].\n",
        "###● While the next permutation of arr = [3,2,1] is [1,2,3] because [3,2,1] does not have a lexicographical larger rearrangement.\n",
        "\n",
        "##Given an array of integers nums, find the next permutation of nums.\n",
        "##The replacement must be in place and use only constant extra memory.\n",
        "\n",
        "##**Example 1:**\n",
        "##Input: nums = [1,2,3]\n",
        "##Output: [1,3,2]"
      ],
      "metadata": {
        "id": "EokZGmxMj5wP"
      }
    },
    {
      "cell_type": "code",
      "source": [],
      "metadata": {
        "id": "sYM7U5LrnSUJ"
      },
      "execution_count": null,
      "outputs": []
    },
    {
      "cell_type": "markdown",
      "source": [
        "## Question 4\n",
        "##Given a sorted array of distinct integers and a target value, return the index if the target is found. If not, return the index where it would be if it were inserted in order.\n",
        "\n",
        "## You must write an algorithm with O(log n) runtime complexity.\n",
        "\n",
        "##Example 1:\n",
        "##Input: nums = [1,3,5,6], target = 5\n",
        "##Output: 2"
      ],
      "metadata": {
        "id": "MZPdI5c1VhrB"
      }
    },
    {
      "cell_type": "code",
      "source": [
        "def distinct(nums,target):\n",
        "  left = 0\n",
        "  right = len(nums) - 1\n",
        "\n",
        "  while left <= right:\n",
        "    mid = (left + right) // 2\n",
        "\n",
        "    if nums[mid] == target:\n",
        "      return mid\n",
        "    elif nums[mid] < target:\n",
        "      left = mid + 1\n",
        "    else:\n",
        "      right = mid - 1\n",
        "    \n",
        "  return left\n",
        "\n",
        "nums = [1, 3, 5, 6]\n",
        "target = 5\n",
        "result = distinct(nums, target)\n",
        "print(f\"Output : {result}\")"
      ],
      "metadata": {
        "colab": {
          "base_uri": "https://localhost:8080/"
        },
        "id": "76MQ4rk835Q8",
        "outputId": "b5ef861c-bcf2-46f4-da42-bfe7817ac8a8"
      },
      "execution_count": 8,
      "outputs": [
        {
          "output_type": "stream",
          "name": "stdout",
          "text": [
            "Output : 2\n"
          ]
        }
      ]
    },
    {
      "cell_type": "markdown",
      "source": [
        "## Question 5\n",
        "##You are given a large integer represented as an integer array digits, where each digits[i] is the ith digit of the integer. The digits are ordered from most significant to least significant in left-to-right order. The large integer does not contain any leading 0's.\n",
        "\n",
        "##Increment the large integer by one and return the resulting array of digits.\n",
        "\n",
        "##**Example 1:**\n",
        "##Input: digits = [1,2,3]\n",
        "##Output: [1,2,4]\n",
        "\n",
        "##**Explanation:** The array represents the integer 123.\n",
        "##Incrementing by one gives 123 + 1 = 124.\n",
        "##Thus, the result should be [1,2,4].\n"
      ],
      "metadata": {
        "id": "uROWy6n9XAPm"
      }
    },
    {
      "cell_type": "code",
      "source": [
        "def addone(digits):\n",
        "  x = len(digits) - 1\n",
        "  while x >= 0:                          # iterate over the array in reverse order\n",
        "    if(digits[x] == 9):                  # if last element is 0 it will go to previous element and check the required condition\n",
        "      digits[x] = 0\n",
        "    else:\n",
        "      digits[x] += 1                     # adds 1 to the element meeting the condition\n",
        "      return digits\n",
        "    x -= 1\n",
        "  return [1] + digits                      \n",
        "\n",
        "digits = [1, 2, 3]\n",
        "result = addone(digits)\n",
        "print(f\"output : {result}\")"
      ],
      "metadata": {
        "colab": {
          "base_uri": "https://localhost:8080/"
        },
        "id": "LmHSQKwjWe-2",
        "outputId": "deed9cc0-48c6-464d-f100-a791f77bd7ec"
      },
      "execution_count": 11,
      "outputs": [
        {
          "output_type": "stream",
          "name": "stdout",
          "text": [
            "output : [1, 2, 4]\n"
          ]
        }
      ]
    },
    {
      "cell_type": "markdown",
      "source": [
        "## Question 6\n",
        "##Given a non-empty array of integers nums, every element appears twice except for one. Find that single one.\n",
        "\n",
        "##You must implement a solution with a linear runtime complexity and use only constant extra space.\n",
        "\n",
        "##Example 1:\n",
        "##Input: nums = [2,2,1]\n",
        "## Output: 1"
      ],
      "metadata": {
        "id": "em2wQrAIZOHA"
      }
    },
    {
      "cell_type": "code",
      "source": [
        "def single(nums):\n",
        "  d = {}\n",
        "  for i in nums:\n",
        "    if i in d:\n",
        "      d[i] += 1\n",
        "    else:\n",
        "      d[i] = 1\n",
        "  \n",
        "  for a,b in d.items():\n",
        "    if b == 1:\n",
        "      return a\n",
        "    \n",
        "nums = [2,2,1]\n",
        "result = single(nums)\n",
        "print(f\"Output : {result}\")"
      ],
      "metadata": {
        "colab": {
          "base_uri": "https://localhost:8080/"
        },
        "id": "9yLQxeyuXz4D",
        "outputId": "fe663e4a-fa2a-4a25-abfb-bcb3c65d9ad7"
      },
      "execution_count": 13,
      "outputs": [
        {
          "output_type": "stream",
          "name": "stdout",
          "text": [
            "Output : 1\n"
          ]
        }
      ]
    },
    {
      "cell_type": "markdown",
      "source": [
        "## Question 7\n",
        "##You are given an inclusive range [lower, upper] and a sorted unique integer array nums, where all elements are within the inclusive range.\n",
        "\n",
        "##A number x is considered missing if x is in the range [lower, upper] and x is not in nums.\n",
        "\n",
        "## Return the shortest sorted list of ranges that exactly covers all the missing numbers. That is, no element of nums is included in any of the ranges, and each missing number is covered by one of the ranges.\n",
        "\n",
        "##Example 1:\n",
        "##Input: nums = [0,1,3,50,75], lower = 0, upper = 99\n",
        "##Output: [[2,2],[4,49],[51,74],[76,99]]\n",
        "\n",
        "##Explanation: The ranges are:\n",
        "##[2,2]\n",
        "##[4,49]\n",
        "##[51,74]\n",
        "##[76,99]"
      ],
      "metadata": {
        "id": "xd0jy9H0boY4"
      }
    },
    {
      "cell_type": "code",
      "source": [
        "def missing(nums, lower, upper):\n",
        "  result = []\n",
        "  start = lower\n",
        "\n",
        "  for num in nums:\n",
        "    if num == start:\n",
        "      start += 1\n",
        "    elif num > start:\n",
        "      if num - start == 1:\n",
        "        result.append([start, start])\n",
        "      else:\n",
        "        result.append([start, num - 1])\n",
        "      start = num + 1\n",
        "\n",
        "  if start <= upper:\n",
        "    if start == upper:\n",
        "      result.append([start, start])\n",
        "    else:\n",
        "      result.append([start, upper])\n",
        "\n",
        "  return result\n",
        "\n",
        "nums = [0,1,3,50,75]\n",
        "lower = 0\n",
        "upper = 99\n",
        "result = missing(nums,lower,upper)\n",
        "print(f\"Output : {result}\")"
      ],
      "metadata": {
        "colab": {
          "base_uri": "https://localhost:8080/"
        },
        "id": "Tk4ZodpnbOeX",
        "outputId": "9f4ed65f-44bc-4bb1-d783-dcb6aa623ff9"
      },
      "execution_count": 19,
      "outputs": [
        {
          "output_type": "stream",
          "name": "stdout",
          "text": [
            "Output : [[2, 2], [4, 49], [51, 74], [76, 99]]\n"
          ]
        }
      ]
    },
    {
      "cell_type": "markdown",
      "source": [
        "## **Question 8**\n",
        "##Given an array of meeting time intervals where intervals[i] = [starti, endi], determine if a person could attend all meetings.\n",
        "\n",
        "##**Example 1:**\n",
        "##Input: intervals = [[0,30],[5,10],[15,20]]\n",
        "##Output: false"
      ],
      "metadata": {
        "id": "_f-yoTZzhQP-"
      }
    },
    {
      "cell_type": "code",
      "source": [
        "def meeting(intervals):\n",
        "  intervals.sort(key=lambda x: x[0])\n",
        "\n",
        "  for i in range(1, len(intervals)):\n",
        "    if intervals[i][0] < intervals[i-1][1]:\n",
        "      return False\n",
        "\n",
        "  return True\n",
        "\n",
        "intervals = [[0, 30], [5, 10], [15, 20]]\n",
        "result = meeting(intervals)\n",
        "print(f\"Output : {result}\")"
      ],
      "metadata": {
        "colab": {
          "base_uri": "https://localhost:8080/"
        },
        "id": "A2N61cZShYvP",
        "outputId": "8615e47d-3851-4534-bbd1-e488acba7c75"
      },
      "execution_count": 24,
      "outputs": [
        {
          "output_type": "stream",
          "name": "stdout",
          "text": [
            "Output : False\n"
          ]
        }
      ]
    }
  ]
}