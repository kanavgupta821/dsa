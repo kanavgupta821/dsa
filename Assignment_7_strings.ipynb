{
  "nbformat": 4,
  "nbformat_minor": 0,
  "metadata": {
    "colab": {
      "provenance": []
    },
    "kernelspec": {
      "name": "python3",
      "display_name": "Python 3"
    },
    "language_info": {
      "name": "python"
    }
  },
  "cells": [
    {
      "cell_type": "markdown",
      "source": [
        "##**Question 1**\n",
        "\n",
        "##Given two strings s and t, *determine if they are isomorphic*.\n",
        "\n",
        "##Two strings s and t are isomorphic if the characters in s can be replaced to get t.\n",
        "\n",
        "##All occurrences of a character must be replaced with another character while preserving the order of characters. No two characters may map to the same character, but a character may map to itself.\n",
        "\n",
        "##**Example 1:**\n",
        "\n",
        "##**Input:** s = \"egg\", t = \"add\"\n",
        "\n",
        "##**Output:** true\n",
        "\n"
      ],
      "metadata": {
        "id": "wA38-yW2SeYR"
      }
    },
    {
      "cell_type": "code",
      "source": [
        "def isomorphic(s, t):\n",
        "  if len(s) != len(t):\n",
        "    return False\n",
        "        \n",
        "  s_to_t = {}\n",
        "  t_to_s = {}\n",
        "  for i in range(len(s)):\n",
        "    if s[i] not in s_to_t and t[i] not in t_to_s:\n",
        "      s_to_t[s[i]] = t[i]\n",
        "      t_to_s[t[i]] = s[i]\n",
        "    elif s[i] in s_to_t and s_to_t[s[i]] == t[i]:\n",
        "      continue\n",
        "    else:\n",
        "      return False\n",
        "      \n",
        "  return True\n",
        "\n",
        "s = \"egg\"\n",
        "t = \"add\"\n",
        "result = isomorphic(s, t)\n",
        "print(f\"Output : {result}\")  "
      ],
      "metadata": {
        "colab": {
          "base_uri": "https://localhost:8080/"
        },
        "id": "t6v_mr4kSnBB",
        "outputId": "ce3fe2a8-ea88-4d63-b259-5646ff7de879"
      },
      "execution_count": 35,
      "outputs": [
        {
          "output_type": "stream",
          "name": "stdout",
          "text": [
            "Output : True\n"
          ]
        }
      ]
    },
    {
      "cell_type": "markdown",
      "source": [
        "##**Question 2**\n",
        "\n",
        "##Given a string num which represents an integer, return true *if* num *is a **strobogrammatic number***.\n",
        "\n",
        "##A **strobogrammatic number** is a number that looks the same when rotated 180 degrees (looked at upside down).\n",
        "\n",
        "##**Example 1:**\n",
        "\n",
        "##**Input:** num = \"69\"\n",
        "\n",
        "##**Output:**\n",
        "\n",
        "##true\n"
      ],
      "metadata": {
        "id": "i42O3nh3SemD"
      }
    },
    {
      "cell_type": "code",
      "source": [
        "def strobogrammatic(num):\n",
        "  map = {\n",
        "        \"0\": \"0\",\n",
        "        \"1\": \"1\",\n",
        "        \"6\": \"9\",\n",
        "        \"8\": \"8\",\n",
        "        \"9\": \"6\"\n",
        "    }\n",
        "\n",
        "  left = 0\n",
        "  right = len(num) - 1\n",
        "\n",
        "  while left <= right:\n",
        "    if num[left] not in map or num[right] not in map:\n",
        "      return False\n",
        "\n",
        "    if map[num[left]] != num[right]:\n",
        "      return False\n",
        "\n",
        "    left += 1\n",
        "    right -= 1\n",
        "\n",
        "  return True\n",
        "\n",
        "num = \"69\"\n",
        "result = strobogrammatic(num)\n",
        "print(f\"Output : {result}\") "
      ],
      "metadata": {
        "colab": {
          "base_uri": "https://localhost:8080/"
        },
        "id": "bEOhx3KjWBXP",
        "outputId": "3c9a3dd5-ddd6-49ae-a8c7-903e09cb9cb8"
      },
      "execution_count": 36,
      "outputs": [
        {
          "output_type": "stream",
          "name": "stdout",
          "text": [
            "Output : True\n"
          ]
        }
      ]
    },
    {
      "cell_type": "markdown",
      "source": [
        "## **Question 3**\n",
        "\n",
        "##Given two non-negative integers, num1 and num2 represented as string, return *the sum of* num1 *and* num2 *as a string*.\n",
        "\n",
        "##You must solve the problem without using any built-in library for handling large integers (such as BigInteger). You must also not convert the inputs to integers directly.\n",
        "\n",
        "##**Example 1:**\n",
        "\n",
        "##**Input:** num1 = \"11\", num2 = \"123\"\n",
        "\n",
        "##**Output:**\n",
        "\n",
        "##\"134\"\n"
      ],
      "metadata": {
        "id": "5BQE_iYCXqtl"
      }
    },
    {
      "cell_type": "code",
      "source": [
        "def addstrings(num1, num2):\n",
        "  p1 = len(num1) - 1\n",
        "  p2 = len(num2) - 1\n",
        "  carry = 0\n",
        "  result = \"\"\n",
        "\n",
        "  while p1 >= 0 or p2 >= 0:\n",
        "    digit1 = int(num1[p1]) if p1 >= 0 else 0\n",
        "    digit2 = int(num2[p2]) if p2 >= 0 else 0\n",
        "\n",
        "    digit_sum = digit1 + digit2 + carry\n",
        "    carry = digit_sum // 10\n",
        "    sum = digit_sum % 10\n",
        "\n",
        "    result = str(sum) + result\n",
        "\n",
        "    p1 -= 1\n",
        "    p2 -= 1\n",
        "\n",
        "  if carry > 0:\n",
        "    result = str(carry) + result\n",
        "\n",
        "  return result\n",
        "\n",
        "num1 = \"11\"\n",
        "num2 = \"123\"\n",
        "result = addstrings(num1, num2)\n",
        "print(f\"Output : {result}\")  "
      ],
      "metadata": {
        "colab": {
          "base_uri": "https://localhost:8080/"
        },
        "id": "_cmNUnU4XS-d",
        "outputId": "d1f72932-f637-452a-c08a-fc670cd61516"
      },
      "execution_count": 37,
      "outputs": [
        {
          "output_type": "stream",
          "name": "stdout",
          "text": [
            "Output : 134\n"
          ]
        }
      ]
    },
    {
      "cell_type": "markdown",
      "source": [
        "##**Question 4**\n",
        "\n",
        "##Given a string s, reverse the order of characters in each word within a sentence while still preserving whitespace and initial word order.\n",
        "\n",
        "##**Example 1:**\n",
        "\n",
        "##**Input:** s = \"Let's take LeetCode contest\"\n",
        "\n",
        "##**Output:** \"s'teL ekat edoCteeL tsetnoc\"\n"
      ],
      "metadata": {
        "id": "YSxY69yladT8"
      }
    },
    {
      "cell_type": "code",
      "source": [
        "def reverse(s):\n",
        "  r=''\n",
        "  l=0\n",
        "  for i in range(len(s)):\n",
        "    if s[i]==\" \":\n",
        "      if l==0:\n",
        "        r=r+s[i-1::-1] \n",
        "      else:\n",
        "        r=r+s[i-1:l:-1]\n",
        "      r=r+\" \"\n",
        "      l=i\n",
        "                \n",
        "  if l==0:\n",
        "    return s[::-1]\n",
        "        \n",
        "  r=r+s[i:l:-1]\n",
        "  return r\n",
        "\n",
        "s = \"Let's take LeetCode contest\"\n",
        "result = reverse(s)\n",
        "print(f\"Output : {result}\")"
      ],
      "metadata": {
        "colab": {
          "base_uri": "https://localhost:8080/"
        },
        "id": "8QLLP1ccZ_BA",
        "outputId": "cfc55e33-1598-433b-9701-043906a1e5a7"
      },
      "execution_count": 38,
      "outputs": [
        {
          "output_type": "stream",
          "name": "stdout",
          "text": [
            "Output : s'teL ekat edoCteeL tsetnoc\n"
          ]
        }
      ]
    },
    {
      "cell_type": "markdown",
      "source": [
        "##**Question 5**\n",
        "\n",
        "##Given a string s and an integer k, reverse the first k characters for every 2k characters counting from the start of the string.\n",
        "\n",
        "##If there are fewer than k characters left, reverse all of them. If there are less than 2k but greater than or equal to k characters, then reverse the first k characters and leave the other as original.\n",
        "\n",
        "##**Example 1:**\n",
        "\n",
        "##**Input:** s = \"abcdefg\", k = 2\n",
        "\n",
        "##**Output:**\n",
        "\n",
        "##\"bacdfeg\""
      ],
      "metadata": {
        "id": "NdPd7esUe6Ie"
      }
    },
    {
      "cell_type": "code",
      "source": [
        "def reverse1(s, k):\n",
        "  result = \"\"\n",
        "\n",
        "  for i in range(0, len(s), 2 * k):\n",
        "    result += s[i:i + k][::-1] + s[i + k:i + 2 * k]\n",
        "\n",
        "  return result\n",
        "\n",
        "s = \"abcdefg\"\n",
        "k = 2\n",
        "result = reverse1(s,k)\n",
        "print(f\"Output : {result}\")"
      ],
      "metadata": {
        "colab": {
          "base_uri": "https://localhost:8080/"
        },
        "id": "Rub6goMldi8Y",
        "outputId": "65c5e037-2f26-4877-f9a0-afc5396da0ff"
      },
      "execution_count": 39,
      "outputs": [
        {
          "output_type": "stream",
          "name": "stdout",
          "text": [
            "Output : bacdfeg\n"
          ]
        }
      ]
    },
    {
      "cell_type": "markdown",
      "source": [
        "##**Question 6**\n",
        "\n",
        "##Given two strings s and goal, return true *if and only if* s *can become* goal *after some number of **shifts** on* s.\n",
        "\n",
        "##A **shift** on s consists of moving the leftmost character of s to the rightmost position.\n",
        "\n",
        "##- For example, if s = \"abcde\", then it will be \"bcdea\" after one shift.\n",
        "\n",
        "##**Example 1:**\n",
        "\n",
        "##**Input:** s = \"abcde\", goal = \"cdeab\"\n",
        "\n",
        "##**Output:**\n",
        "\n",
        "##true\n"
      ],
      "metadata": {
        "id": "T0BTM3qliWii"
      }
    },
    {
      "cell_type": "code",
      "source": [
        "def rotate(s, goal):\n",
        "  if len(s) != len(goal):\n",
        "    return False\n",
        "\n",
        "  s_concat = s + s\n",
        "\n",
        "  if goal in s_concat:\n",
        "    return True\n",
        "\n",
        "  return False\n",
        "\n",
        "s = \"abcde\"\n",
        "goal = \"cdeab\"\n",
        "result = rotate(s,goal)\n",
        "print(f\"Output : {result}\")"
      ],
      "metadata": {
        "colab": {
          "base_uri": "https://localhost:8080/"
        },
        "id": "XmekpnJUh3HK",
        "outputId": "b86b3c26-fe24-45cb-d177-bc5d4cecad75"
      },
      "execution_count": 40,
      "outputs": [
        {
          "output_type": "stream",
          "name": "stdout",
          "text": [
            "Output : True\n"
          ]
        }
      ]
    },
    {
      "cell_type": "markdown",
      "source": [
        "##**Question 7**\n",
        "\n",
        "##Given two strings s and t, return true *if they are equal when both are typed into empty text editors*. '#' means a backspace character.\n",
        "\n",
        "##Note that after backspacing an empty text, the text will continue empty.\n",
        "\n",
        "##**Example 1:**\n",
        "\n",
        "##**Input:** s = \"ab#c\", t = \"ad#c\"\n",
        "\n",
        "##**Output:** true\n",
        "\n",
        "##**Explanation:**\n",
        "\n",
        "##Both s and t become \"ac\".\n"
      ],
      "metadata": {
        "id": "BAgD71_TkK70"
      }
    },
    {
      "cell_type": "code",
      "source": [
        "def backspace(s, t):\n",
        "  s1 = []\n",
        "  t1 = []\n",
        "\n",
        "  for i in s:\n",
        "    if i != '#':\n",
        "      s1.append(i)\n",
        "    elif s1:\n",
        "      s1.pop()\n",
        "\n",
        "  for j in t:\n",
        "    if j != '#':\n",
        "      t1.append(j)\n",
        "    elif t1:\n",
        "      t1.pop()\n",
        "\n",
        "  return s1 == t1\n",
        "\n",
        "s = \"ab#c\"\n",
        "t = \"ad#c\"\n",
        "result = backspace(s,t)\n",
        "print(f\"Output : {result}\")"
      ],
      "metadata": {
        "colab": {
          "base_uri": "https://localhost:8080/"
        },
        "id": "CcAq3M1vj2Wi",
        "outputId": "6560cdc6-3f5e-4dce-ae53-fcc77264e4cb"
      },
      "execution_count": 41,
      "outputs": [
        {
          "output_type": "stream",
          "name": "stdout",
          "text": [
            "Output : True\n"
          ]
        }
      ]
    },
    {
      "cell_type": "markdown",
      "source": [
        "##**Question 8**\n",
        "\n",
        "##You are given an array coordinates, coordinates[i] = [x, y], where [x, y] represents the coordinate of a point. Check if these points make a straight line in the XY plane.\n",
        "\n",
        "##**Example 1:**\n",
        "\n",
        "##**Input:** coordinates = [[1,2],[2,3],[3,4],[4,5],[5,6],[6,7]]\n",
        "\n",
        "##**Output:** true"
      ],
      "metadata": {
        "id": "xUC_IePylzdT"
      }
    },
    {
      "cell_type": "code",
      "source": [
        "def straightline(coordinates):\n",
        "  if len(coordinates) <= 2:\n",
        "    return True\n",
        "    \n",
        "  x1, y1 = coordinates[0]\n",
        "  x2, y2 = coordinates[1]\n",
        "  initial_slope = (y2 - y1) / (x2 - x1)\n",
        "    \n",
        "  # Check the slope between each consecutive pair of points\n",
        "  for i in range(2, len(coordinates)):\n",
        "    x1, y1 = coordinates[i-1]\n",
        "    x2, y2 = coordinates[i]\n",
        "    current_slope = (y2 - y1) / (x2 - x1)\n",
        "        \n",
        "    if current_slope != initial_slope:\n",
        "      return False\n",
        "  \n",
        "  return True\n",
        "\n",
        "coordinates = [[1,2],[2,3],[3,4],[4,5],[5,6],[6,7]]\n",
        "result = straightline(coordinates)\n",
        "print(f\"Output : {result}\")"
      ],
      "metadata": {
        "colab": {
          "base_uri": "https://localhost:8080/"
        },
        "id": "Pt_m8AhMkuQf",
        "outputId": "46d5f993-a1ab-415e-a64f-8b14a9ca8826"
      },
      "execution_count": 42,
      "outputs": [
        {
          "output_type": "stream",
          "name": "stdout",
          "text": [
            "Output : True\n"
          ]
        }
      ]
    },
    {
      "cell_type": "code",
      "source": [],
      "metadata": {
        "id": "HFG340B5l8Hf"
      },
      "execution_count": 42,
      "outputs": []
    }
  ]
}