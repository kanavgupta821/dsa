{
  "nbformat": 4,
  "nbformat_minor": 0,
  "metadata": {
    "colab": {
      "provenance": []
    },
    "kernelspec": {
      "name": "python3",
      "display_name": "Python 3"
    },
    "language_info": {
      "name": "python"
    }
  },
  "cells": [
    {
      "cell_type": "markdown",
      "source": [
        "\n",
        "##💡 **Question 1**\n",
        "\n",
        "Given an integer `n`, return *`true` if it is a power of two. Otherwise, return `false`*.\n",
        "\n",
        "An integer `n` is a power of two, if there exists an integer `x` such that `n == 2x`.\n",
        "\n",
        "**Example 1:**\n",
        "Input: n = 1 \n",
        "\n",
        "Output: true\n",
        "\n",
        "**Example 2:**\n",
        "Input: n = 16 \n",
        "\n",
        "Output: true\n",
        "\n",
        "**Example 3:**\n",
        "Input: n = 3 \n",
        "\n",
        "Output: false\n",
        "\n",
        "</aside>\n"
      ],
      "metadata": {
        "id": "YCweQONCssFN"
      }
    },
    {
      "cell_type": "code",
      "source": [
        "def power(n):\n",
        "  if n <= 0:\n",
        "    return False\n",
        "\n",
        "  while n % 2 == 0:\n",
        "    n //= 2\n",
        "\n",
        "  return n == 1"
      ],
      "metadata": {
        "id": "TXEvmeWxtd9Z"
      },
      "execution_count": 1,
      "outputs": []
    },
    {
      "cell_type": "code",
      "source": [
        "n = 1\n",
        "result = power(n)\n",
        "print(f\"Output : {result}\")"
      ],
      "metadata": {
        "colab": {
          "base_uri": "https://localhost:8080/"
        },
        "id": "fSt_MXb1uFez",
        "outputId": "ba67d35d-6bde-4f3e-f918-5b61c54d7795"
      },
      "execution_count": 2,
      "outputs": [
        {
          "output_type": "stream",
          "name": "stdout",
          "text": [
            "Output : True\n"
          ]
        }
      ]
    },
    {
      "cell_type": "code",
      "source": [
        "n = 16\n",
        "result = power(n)\n",
        "print(f\"Output : {result}\")"
      ],
      "metadata": {
        "colab": {
          "base_uri": "https://localhost:8080/"
        },
        "id": "Fm57G4xNuSAR",
        "outputId": "d9dbc958-5da5-4d02-a44b-63e8865c2e2b"
      },
      "execution_count": 3,
      "outputs": [
        {
          "output_type": "stream",
          "name": "stdout",
          "text": [
            "Output : True\n"
          ]
        }
      ]
    },
    {
      "cell_type": "code",
      "source": [
        "n = 3\n",
        "result = power(n)\n",
        "print(f\"Output : {result}\")"
      ],
      "metadata": {
        "colab": {
          "base_uri": "https://localhost:8080/"
        },
        "id": "5q97pvpTuS2C",
        "outputId": "c6c7749b-6eda-4711-becf-3e1b17697e72"
      },
      "execution_count": 4,
      "outputs": [
        {
          "output_type": "stream",
          "name": "stdout",
          "text": [
            "Output : False\n"
          ]
        }
      ]
    },
    {
      "cell_type": "markdown",
      "source": [
        "##💡 **Question 2**\n",
        "\n",
        "Given a number n, find the sum of the first natural numbers.\n",
        "\n",
        "**Example 1:**\n",
        "\n",
        "Input: n = 3 \n",
        "\n",
        "Output: 6\n",
        "\n",
        "**Example 2:**\n",
        "\n",
        "Input  : 5 \n",
        "\n",
        "Output : 15\n",
        "\n",
        "</aside>"
      ],
      "metadata": {
        "id": "4eIDPOxEssQG"
      }
    },
    {
      "cell_type": "code",
      "source": [
        "def natural(n):\n",
        "  return (n * (n + 1)) // 2"
      ],
      "metadata": {
        "id": "jL_1sv17uaDN"
      },
      "execution_count": 5,
      "outputs": []
    },
    {
      "cell_type": "code",
      "source": [
        "n = 3\n",
        "result = natural(n)\n",
        "print(f\"Output : {result}\")"
      ],
      "metadata": {
        "colab": {
          "base_uri": "https://localhost:8080/"
        },
        "id": "RYJrTJxiuqcU",
        "outputId": "4a883bba-31b1-4d3b-f27b-5f45b5b546d7"
      },
      "execution_count": 6,
      "outputs": [
        {
          "output_type": "stream",
          "name": "stdout",
          "text": [
            "Output : 6\n"
          ]
        }
      ]
    },
    {
      "cell_type": "code",
      "source": [
        "n = 5\n",
        "result = natural(n)\n",
        "print(f\"Output : {result}\")"
      ],
      "metadata": {
        "colab": {
          "base_uri": "https://localhost:8080/"
        },
        "id": "Q4NDJVqkuzvA",
        "outputId": "9e483a9d-14dd-42ce-9a4f-5316f0ab5b27"
      },
      "execution_count": 8,
      "outputs": [
        {
          "output_type": "stream",
          "name": "stdout",
          "text": [
            "Output : 15\n"
          ]
        }
      ]
    },
    {
      "cell_type": "markdown",
      "source": [
        "##💡 **Question 3**\n",
        "\n",
        "Given a positive integer, N. Find the factorial of N. \n",
        "\n",
        "**Example 1:**\n",
        "\n",
        "Input: N = 5 \n",
        "\n",
        "Output: 120\n",
        "\n",
        "**Example 2:**\n",
        "\n",
        "Input: N = 4\n",
        "\n",
        "Output: 24\n",
        "\n",
        "</aside>"
      ],
      "metadata": {
        "id": "88rcv4_Du5Uh"
      }
    },
    {
      "cell_type": "code",
      "source": [
        "def factorial(N):\n",
        "  product = 1\n",
        "  if N == 0:\n",
        "    return 1\n",
        "  for i in range(1, N+1):\n",
        "    product *= i\n",
        "  return product"
      ],
      "metadata": {
        "id": "hqHsKy3FvXMl"
      },
      "execution_count": 9,
      "outputs": []
    },
    {
      "cell_type": "code",
      "source": [
        "N = 5\n",
        "result = factorial(N)\n",
        "print(f\"Output : {result}\")"
      ],
      "metadata": {
        "colab": {
          "base_uri": "https://localhost:8080/"
        },
        "id": "Et1DfMUKu15K",
        "outputId": "0c8cc70e-76fe-45b9-d3a9-acb19b4343c0"
      },
      "execution_count": 12,
      "outputs": [
        {
          "output_type": "stream",
          "name": "stdout",
          "text": [
            "Output : 120\n"
          ]
        }
      ]
    },
    {
      "cell_type": "code",
      "source": [
        "N = 4\n",
        "result = factorial(N)\n",
        "print(f\"Output : {result}\")"
      ],
      "metadata": {
        "colab": {
          "base_uri": "https://localhost:8080/"
        },
        "id": "xA1XoxHJwAyz",
        "outputId": "339ef70f-8036-44d1-d958-be76937144fd"
      },
      "execution_count": 14,
      "outputs": [
        {
          "output_type": "stream",
          "name": "stdout",
          "text": [
            "Output : 24\n"
          ]
        }
      ]
    },
    {
      "cell_type": "markdown",
      "source": [
        "##💡 **Question 4**\n",
        "\n",
        "Given a number N and a power P, the task is to find the exponent of this number raised to the given power, i.e. N^P.\n",
        "\n",
        "**Example 1 :** \n",
        "\n",
        "Input: N = 5, P = 2\n",
        "\n",
        "Output: 25\n",
        "\n",
        "**Example 2 :**\n",
        "Input: N = 2, P = 5\n",
        "\n",
        "Output: 32\n",
        "\n",
        "</aside>"
      ],
      "metadata": {
        "id": "C3PTlumAwOF_"
      }
    },
    {
      "cell_type": "code",
      "source": [
        "def exponent(N,P):\n",
        "  return N ** P"
      ],
      "metadata": {
        "id": "QZotkEJ3wHFR"
      },
      "execution_count": 15,
      "outputs": []
    },
    {
      "cell_type": "code",
      "source": [
        "N, P = 5, 2\n",
        "result = exponent(N, P)\n",
        "print(f\"Output : {result}\")"
      ],
      "metadata": {
        "colab": {
          "base_uri": "https://localhost:8080/"
        },
        "id": "0CIlgdmowi2O",
        "outputId": "7e7f128c-fdbf-4502-fcc3-18769f3f30ba"
      },
      "execution_count": 16,
      "outputs": [
        {
          "output_type": "stream",
          "name": "stdout",
          "text": [
            "Output : 25\n"
          ]
        }
      ]
    },
    {
      "cell_type": "code",
      "source": [
        "N, P = 2, 5\n",
        "result = exponent(N, P)\n",
        "print(f\"Output : {result}\")"
      ],
      "metadata": {
        "colab": {
          "base_uri": "https://localhost:8080/"
        },
        "id": "KNVrfuOZwtq3",
        "outputId": "2bd523cd-bb7f-4999-ba31-9f1b5d5fbf2f"
      },
      "execution_count": 17,
      "outputs": [
        {
          "output_type": "stream",
          "name": "stdout",
          "text": [
            "Output : 32\n"
          ]
        }
      ]
    },
    {
      "cell_type": "markdown",
      "source": [
        "## 💡 **Question 5**\n",
        "\n",
        "Given an array of integers **arr**, the task is to find maximum element of that array using recursion.\n",
        "\n",
        "**Example 1:**\n",
        "\n",
        "Input: arr = {1, 4, 3, -5, -4, 8, 6};\n",
        "Output: 8\n",
        "\n",
        "**Example 2:**\n",
        "\n",
        "Input: arr = {1, 4, 45, 6, 10, -8};\n",
        "Output: 45\n",
        "\n",
        "</aside>"
      ],
      "metadata": {
        "id": "IpX6MZLHwxX1"
      }
    },
    {
      "cell_type": "code",
      "source": [
        "def maximum(arr):\n",
        "  \n",
        "  if len(arr) == 1:\n",
        "    return arr[0]\n",
        "\n",
        "  mid = len(arr) // 2\n",
        "  left_max = maximum(arr[:mid])\n",
        "  right_max = maximum(arr[mid:])\n",
        "\n",
        "  return max(left_max, right_max)"
      ],
      "metadata": {
        "id": "PnYwiPC2w9fT"
      },
      "execution_count": 30,
      "outputs": []
    },
    {
      "cell_type": "code",
      "source": [
        "arr = [1, 4, 3, -5, -4, 8, 6]\n",
        "result = maximum(arr)\n",
        "print(f\"Output : {result}\")"
      ],
      "metadata": {
        "colab": {
          "base_uri": "https://localhost:8080/"
        },
        "id": "8vALkAtf2RzA",
        "outputId": "8ea0ffd9-e371-4855-b811-247fa1aeb98e"
      },
      "execution_count": 32,
      "outputs": [
        {
          "output_type": "stream",
          "name": "stdout",
          "text": [
            "Output : 8\n"
          ]
        }
      ]
    },
    {
      "cell_type": "code",
      "source": [
        "arr = [1, 4, 45, 6, 10, -8]\n",
        "result = maximum(arr)\n",
        "print(f\"Output : {result}\")"
      ],
      "metadata": {
        "colab": {
          "base_uri": "https://localhost:8080/"
        },
        "id": "FPnhH3CC2lJk",
        "outputId": "d454b1f8-ee08-4dee-a8b8-24fb6133f3c4"
      },
      "execution_count": 33,
      "outputs": [
        {
          "output_type": "stream",
          "name": "stdout",
          "text": [
            "Output : 45\n"
          ]
        }
      ]
    },
    {
      "cell_type": "markdown",
      "source": [
        "##💡 **Question 6**\n",
        "\n",
        "Given first term (a), common difference (d) and a integer N of the Arithmetic Progression series, the task is to find Nth term of the series.\n",
        "\n",
        "**Example 1:**\n",
        "\n",
        "Input : a = 2 d = 1 N = 5\n",
        "Output : 6\n",
        "The 5th term of the series is : 6\n",
        "\n",
        "**Example 2:**\n",
        "\n",
        "Input : a = 5 d = 2 N = 10\n",
        "Output : 23\n",
        "The 10th term of the series is : 23\n",
        "\n",
        "</aside>"
      ],
      "metadata": {
        "id": "7YlIy_jX2vv0"
      }
    },
    {
      "cell_type": "code",
      "source": [
        "def AP(a,d,N):\n",
        "  if N == 1:\n",
        "    return a\n",
        "  else:\n",
        "    return AP(a + d, d, N-1)"
      ],
      "metadata": {
        "id": "96jVhm6B3qa-"
      },
      "execution_count": 34,
      "outputs": []
    },
    {
      "cell_type": "code",
      "source": [
        "a,d,N = 2,1,5\n",
        "result = AP(a,d,N)\n",
        "print(f\"Output : {result}\")"
      ],
      "metadata": {
        "colab": {
          "base_uri": "https://localhost:8080/"
        },
        "id": "sbFktUlO4A1U",
        "outputId": "b4d0a819-4e20-449a-a546-9551cbb961d3"
      },
      "execution_count": 35,
      "outputs": [
        {
          "output_type": "stream",
          "name": "stdout",
          "text": [
            "Output : 6\n"
          ]
        }
      ]
    },
    {
      "cell_type": "code",
      "source": [
        "a,d,N = 5,2,10\n",
        "result = AP(a,d,N)\n",
        "print(f\"Output : {result}\")"
      ],
      "metadata": {
        "colab": {
          "base_uri": "https://localhost:8080/"
        },
        "id": "HQgZM-pi4Nkq",
        "outputId": "da338b78-42be-40b3-c2ac-4447aa1263f0"
      },
      "execution_count": 36,
      "outputs": [
        {
          "output_type": "stream",
          "name": "stdout",
          "text": [
            "Output : 23\n"
          ]
        }
      ]
    },
    {
      "cell_type": "markdown",
      "source": [
        "##💡 **Question 7**\n",
        "\n",
        "Given a string S, the task is to write a program to print all permutations of a given string.\n",
        "\n",
        "**Example 1:**\n",
        "\n",
        "***Input:***\n",
        "\n",
        "*S = “ABC”*\n",
        "\n",
        "***Output:***\n",
        "\n",
        "*“ABC”, “ACB”, “BAC”, “BCA”, “CBA”, “CAB”*\n",
        "\n",
        "**Example 2:**\n",
        "\n",
        "***Input:***\n",
        "\n",
        "*S = “XY”*\n",
        "\n",
        "***Output:***\n",
        "\n",
        "*“XY”, “YX”*\n",
        "\n",
        "</aside>"
      ],
      "metadata": {
        "id": "P_G3ohch4UQt"
      }
    },
    {
      "cell_type": "code",
      "source": [
        "def permutations(S, current=\"\"):\n",
        "  if len(S) == 0:\n",
        "    print(current)\n",
        "  else:\n",
        "    for i in range(len(S)):\n",
        "      new_current = current + S[i]\n",
        "      remaining_chars = S[:i] + S[i+1:]\n",
        "      permutations(remaining_chars, new_current)\n",
        "      \n",
        "def printPermutations(S):\n",
        "    permutations(S)"
      ],
      "metadata": {
        "id": "aZI73ugG4ZvQ"
      },
      "execution_count": 49,
      "outputs": []
    },
    {
      "cell_type": "code",
      "source": [
        "S = \"ABC\"\n",
        "result = printPermutations(S)\n",
        "print(f\"Output : {result}\")"
      ],
      "metadata": {
        "colab": {
          "base_uri": "https://localhost:8080/"
        },
        "id": "V-QeBsHH5pGv",
        "outputId": "2b7e836f-d378-40b8-b0b0-b0656955c9cb"
      },
      "execution_count": 50,
      "outputs": [
        {
          "output_type": "stream",
          "name": "stdout",
          "text": [
            "ABC\n",
            "ACB\n",
            "BAC\n",
            "BCA\n",
            "CAB\n",
            "CBA\n",
            "Output : None\n"
          ]
        }
      ]
    },
    {
      "cell_type": "code",
      "source": [
        "S = \"XY\"\n",
        "result = printPermutations(S)\n",
        "print(f\"Output : {result}\")"
      ],
      "metadata": {
        "colab": {
          "base_uri": "https://localhost:8080/"
        },
        "id": "cF-Y2-Lr7msg",
        "outputId": "0fe5e6f4-1578-452b-ad24-adbd4ad21e01"
      },
      "execution_count": 51,
      "outputs": [
        {
          "output_type": "stream",
          "name": "stdout",
          "text": [
            "XY\n",
            "YX\n",
            "Output : None\n"
          ]
        }
      ]
    },
    {
      "cell_type": "markdown",
      "source": [
        "##💡 **Question 8**\n",
        "\n",
        "Given an array, find a product of all array elements.\n",
        "\n",
        "**Example 1:**\n",
        "\n",
        "Input  : arr[] = {1, 2, 3, 4, 5}\n",
        "Output : 120\n",
        "**Example 2:**\n",
        "\n",
        "Input  : arr[] = {1, 6, 3}\n",
        "Output : 18\n",
        "\n",
        "</aside>"
      ],
      "metadata": {
        "id": "Q9ljjkJ37qjg"
      }
    },
    {
      "cell_type": "code",
      "source": [
        "def product(arr):\n",
        "  if len(arr) == 0:\n",
        "    return 1\n",
        "  else:\n",
        "    return arr[0] * product(arr[1:])"
      ],
      "metadata": {
        "id": "Q4KL5n5N7DHK"
      },
      "execution_count": 53,
      "outputs": []
    },
    {
      "cell_type": "code",
      "source": [
        "arr = [1, 2, 3, 4, 5]\n",
        "result = product(arr)\n",
        "print(f\"Output : {result}\")"
      ],
      "metadata": {
        "colab": {
          "base_uri": "https://localhost:8080/"
        },
        "id": "381SiLih8K1b",
        "outputId": "f4484d9a-9cf6-4d1b-9f99-29d33b9e7c9e"
      },
      "execution_count": 54,
      "outputs": [
        {
          "output_type": "stream",
          "name": "stdout",
          "text": [
            "Output : 120\n"
          ]
        }
      ]
    },
    {
      "cell_type": "code",
      "source": [
        "arr = [1, 6, 3]\n",
        "result = product(arr)\n",
        "print(f\"Output : {result}\")"
      ],
      "metadata": {
        "colab": {
          "base_uri": "https://localhost:8080/"
        },
        "id": "vYy7r3XA8VUM",
        "outputId": "bc6688e0-08f8-48f9-aa16-fdc83b1c81f3"
      },
      "execution_count": 55,
      "outputs": [
        {
          "output_type": "stream",
          "name": "stdout",
          "text": [
            "Output : 18\n"
          ]
        }
      ]
    }
  ]
}